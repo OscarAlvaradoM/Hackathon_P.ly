{
 "cells": [
  {
   "cell_type": "code",
   "execution_count": 25,
   "metadata": {},
   "outputs": [],
   "source": [
    "from sklearn.linear_model import LogisticRegression\n",
    "import pandas as pd\n",
    "import numpy as np\n",
    "import random\n",
    "from sklearn import preprocessing\n",
    "path = \"Datasets/\"\n",
    "datos_BBVA = pd.read_csv('BBVA/datosbbva.csv')\n",
    "datos_BBVA.dropna(axis = 0, how = 'any', inplace = True) \n",
    "carpinteria = pd.read_csv(path+\"carpinteria.csv\").apply(pd.to_numeric, errors='coerce')\n",
    "constructora = pd.read_csv(path+\"Constructoras.csv\").apply(pd.to_numeric, errors='coerce')\n",
    "sastreria = pd.read_csv(path+\"sastreria.csv\").apply(pd.to_numeric, errors='coerce')\n",
    "mecanica = pd.read_csv(path+\"mecanica.csv\").apply(pd.to_numeric, errors='coerce')\n",
    "abogados = pd.read_csv(path+\"Abogados.csv\").apply(pd.to_numeric, errors='coerce')\n",
    "servicios_medicos = pd.read_csv(path+\"ServiciosMedicos.csv\").apply(pd.to_numeric, errors='coerce')\n",
    "behavior_months = [1.3,0.5,0.8,0.95,1.1,.8,.8,1.02,0.93,1,1.25,1.55]"
   ]
  },
  {
   "cell_type": "code",
   "execution_count": 26,
   "metadata": {},
   "outputs": [],
   "source": [
    "carpinteria = order_index(carpinteria.iloc[:,1:6])"
   ]
  },
  {
   "cell_type": "code",
   "execution_count": 27,
   "metadata": {},
   "outputs": [],
   "source": [
    "def order_index(M):\n",
    "    c = M.copy()\n",
    "    return c.reindex(sorted(c.columns), axis=1)\n",
    "def normalizar(M):\n",
    "    m,n = M.shape\n",
    "    M2 = np.zeros((m,n))\n",
    "    \n",
    "    sumas = []\n",
    "    \n",
    "    for i in range(m):\n",
    "        sumas.append(sum([M[i,j] for j in range(n) if M[i,j] > 0]))\n",
    "        \n",
    "    for i in range(m):\n",
    "        for j in range(n):\n",
    "            M2[i,j] = M[i,j]/sumas[i]\n",
    "            \n",
    "    return M2\n",
    "def promedio_meses(m,behavior_months):\n",
    "    return (np.array(m.columns),np.array([behavior_months])*np.array([normalizar(m.values).mean(axis=0)]).T)\n",
    "def homogen_datos(datos):\n",
    "    datos = datos.drop(columns=\"OFERTA CRÉDITO EN 2018\")\n",
    "    datos = datos.drop(columns=\"TDCN\")\n",
    "    datos = datos.drop(columns=\"CLIENTE\")\n",
    "    datos = datos.drop(columns=\"CD_GIRO (BANXICO)\")\n",
    "    datos['VENTAS POR TPV'] = pd.to_numeric(datos['VENTAS POR TPV'],errors='coerce')\n",
    "    \n",
    "    creditos_aprobados = datos[\"FH_FORMA CREDITO 2018\"]\n",
    "    creditos_otorgados = datos[\"Créditos simples otorgados desde 2018\"]\n",
    "    \n",
    "    rs1 = np.linspace(30,50,len(creditos_aprobados))\n",
    "    rs2 = [np.random.rand() for i in range(len(creditos_aprobados))]\n",
    "    \n",
    "    datos[\"Créditos simples otorgados desde 2018\"] = datos[\"Créditos simples otorgados desde 2018\"].astype(float)\n",
    "        \n",
    "    for i in range(len(creditos_aprobados)):\n",
    "        \n",
    "        if creditos_aprobados[i] == \"#N/D\":\n",
    "            datos.at[i, \"FH_FORMA CREDITO 2018\"] = 0\n",
    "        elif creditos_aprobados[i] != \"#N/D\":\n",
    "            datos.at[i, \"FH_FORMA CREDITO 2018\"] = 1\n",
    "            \n",
    "        if creditos_otorgados[i] == 0:\n",
    "            p = random.uniform(0.3, 0.5)\n",
    "            datos.at[i, \"Créditos simples otorgados desde 2018\"] = p\n",
    "            \n",
    "        elif creditos_otorgados[i] != 0:\n",
    "            p = random.uniform(0.5, 0.7)\n",
    "            datos.at[i, \"Créditos simples otorgados desde 2018\"] = p\n",
    "        \n",
    "    datos = datos.rename(columns={\"FH_FORMA CREDITO 2018\":\"Créditos\", \"Créditos simples otorgados desde 2018\":\"Salud\"})\n",
    "    return datos\n",
    "datos_h=homogen_datos(datos_BBVA)"
   ]
  },
  {
   "cell_type": "code",
   "execution_count": 28,
   "metadata": {},
   "outputs": [],
   "source": [
    "constructora = order_index(constructora.iloc[:,1:6])"
   ]
  },
  {
   "cell_type": "code",
   "execution_count": 29,
   "metadata": {},
   "outputs": [],
   "source": [
    "sastreria = order_index(sastreria.iloc[:,1:6])"
   ]
  },
  {
   "cell_type": "code",
   "execution_count": 30,
   "metadata": {},
   "outputs": [],
   "source": [
    "mecanica = order_index(mecanica.iloc[:,1:6])"
   ]
  },
  {
   "cell_type": "code",
   "execution_count": 31,
   "metadata": {},
   "outputs": [],
   "source": [
    "abogados = order_index(abogados.iloc[:,1:6])"
   ]
  },
  {
   "cell_type": "code",
   "execution_count": 32,
   "metadata": {},
   "outputs": [],
   "source": [
    "servicios_medicos = order_index(servicios_medicos.iloc[:,1:6])"
   ]
  },
  {
   "cell_type": "code",
   "execution_count": 33,
   "metadata": {},
   "outputs": [],
   "source": [
    "frames = [carpinteria, constructora, sastreria, mecanica, abogados, servicios_medicos]"
   ]
  },
  {
   "cell_type": "code",
   "execution_count": 34,
   "metadata": {},
   "outputs": [],
   "source": [
    "matriz = pd.concat(frames,sort=True)"
   ]
  },
  {
   "cell_type": "code",
   "execution_count": 35,
   "metadata": {},
   "outputs": [],
   "source": [
    "matriz = matriz.fillna(0)"
   ]
  },
  {
   "cell_type": "code",
   "execution_count": 36,
   "metadata": {},
   "outputs": [],
   "source": [
    "clases = {0:'carpinteria',\n",
    "         1:'constructora',\n",
    "         2:'sastreria',\n",
    "         3:'mecanica',\n",
    "         4:'abogados',\n",
    "         5:'servicios médicos'}"
   ]
  },
  {
   "cell_type": "code",
   "execution_count": 37,
   "metadata": {},
   "outputs": [],
   "source": [
    "import numpy as np\n",
    "import matplotlib.pyplot as plt\n",
    "\n",
    "from sklearn.svm import LinearSVC \n",
    "from sklearn.model_selection import train_test_split"
   ]
  },
  {
   "cell_type": "code",
   "execution_count": 38,
   "metadata": {},
   "outputs": [],
   "source": [
    "data = matriz.values\n",
    "objetivos = [[i]*5 for i in range(6)]\n",
    "objetivos = np.vstack(objetivos).reshape(-1,1)\n",
    "data_train, data_test, obj_train, obj_test = train_test_split(data,objetivos,test_size=0.2)"
   ]
  },
  {
   "cell_type": "code",
   "execution_count": 39,
   "metadata": {},
   "outputs": [],
   "source": [
    "clf = LinearSVC().fit(data_train,obj_train.ravel())"
   ]
  },
  {
   "cell_type": "code",
   "execution_count": 40,
   "metadata": {},
   "outputs": [
    {
     "data": {
      "text/plain": [
       "(array(['113', '313', '321', '337', '541'], dtype=object),\n",
       " array([[-0.10834115, -0.04166967, -0.06667147, -0.07917238, -0.09167328,\n",
       "         -0.06667147, -0.06667147, -0.08500613, -0.07750559, -0.08333934,\n",
       "         -0.10417418, -0.12917598],\n",
       "        [-0.29935494, -0.11513652, -0.18421842, -0.21875938, -0.25330033,\n",
       "         -0.18421842, -0.18421842, -0.23487849, -0.21415392, -0.23027303,\n",
       "         -0.28784129, -0.3569232 ],\n",
       "        [ 0.45401065,  0.17461948,  0.27939117,  0.33177702,  0.38416286,\n",
       "          0.27939117,  0.27939117,  0.35622374,  0.32479224,  0.34923896,\n",
       "          0.4365487 ,  0.54132039],\n",
       "        [ 0.81521406,  0.31354387,  0.50167019,  0.59573335,  0.68979651,\n",
       "          0.50167019,  0.50167019,  0.6396295 ,  0.5831916 ,  0.62708774,\n",
       "          0.78385968,  0.971986  ],\n",
       "        [-0.13030142, -0.05011593, -0.08018549, -0.09522027, -0.11025505,\n",
       "         -0.08018549, -0.08018549, -0.1022365 , -0.09321563, -0.10023186,\n",
       "         -0.12528983, -0.15535939]]))"
      ]
     },
     "execution_count": 40,
     "metadata": {},
     "output_type": "execute_result"
    }
   ],
   "source": [
    "modelo = []\n",
    "meses=[1,2,3,4,5,6,7,8,9,10,11,12]\n",
    "modelo.append((0,promedio_meses(carpinteria,behavior_months)))\n",
    "modelo.append((1,promedio_meses(constructora,behavior_months)))\n",
    "modelo.append((2,promedio_meses(sastreria,behavior_months)))\n",
    "modelo.append((3,promedio_meses(mecanica,behavior_months)))\n",
    "modelo.append((4,promedio_meses(abogados,behavior_months)))\n",
    "modelo.append((5,promedio_meses(servicios_medicos,behavior_months)))\n",
    "#poly_reg = PolynomialFeatures(degree=6)\n",
    "#X_poly = poly_reg.fit_transform()\n",
    "#pol_reg = LinearRegression()\n",
    "#pol_reg.fit(X_poly, y)\n",
    "modelo[0][1]"
   ]
  },
  {
   "cell_type": "code",
   "execution_count": 19,
   "metadata": {},
   "outputs": [],
   "source": [
    "def sigmoid(x):\n",
    "    return 1/(1+np.exp(x))"
   ]
  },
  {
   "cell_type": "code",
   "execution_count": 20,
   "metadata": {},
   "outputs": [],
   "source": [
    "#nota: Asegurarse que una vez clasificadas, las variables vayan  donde deben. Ergo, orden alfabetico.\n",
    "def salud(mes,variables,clase,modelo):\n",
    "    error = 0\n",
    "    for i in range(5):\n",
    "        if variables[1][i] in modelo[clase][1][0]:\n",
    "            #Que quiero.\n",
    "            #Si la variable del individuo está en el modelo (ambas aparecen el el header)\n",
    "            #Restar a la variable i la variable del modelo en la cual el indice sea el correspondiente a \n",
    "            match = modelo[clase][1][0].index(variables[0][i])\n",
    "            error = error + variables[1][i]-modelo[clase][1][1][match][mes]\n",
    "    return sigmoid(error)"
   ]
  },
  {
   "cell_type": "code",
   "execution_count": 21,
   "metadata": {},
   "outputs": [],
   "source": [
    "def clasificador_Crediticio(apidatos,apitarget,empresadatos):\n",
    "    #partir infoapi en X,y\n",
    "    x_train, x_test, y_train, y_test = train_test_split(apidatos.astype('float'), apitarget.astype('float'), test_size=0.25, random_state=0)\n",
    "    logisticRegr = LogisticRegression()\n",
    "    logisticRegr.fit(x_train, y_train)\n",
    "    es_c = logisticRegr.predict(empresadatos)\n",
    "    score = logisticRegr.score(x_test, y_test)\n",
    "    print(es_c)"
   ]
  },
  {
   "cell_type": "code",
   "execution_count": 23,
   "metadata": {},
   "outputs": [],
   "source": [
    "apitarget = datos_h['Créditos']\n",
    "apidatos = datos_h.drop(columns=\"Créditos\")\n",
    "apidatos = apidatos.drop(columns=\"FH_NACIMIENTO\")\n",
    "apidatos = apidatos.drop(columns=\"FH_ANTIGUEDAD CON BANCO\")\n",
    "apidatos = apidatos.fillna(0)\n",
    "l_sexo = preprocessing.LabelEncoder()\n",
    "l_tipo_persona = preprocessing.LabelEncoder()\n",
    "l_cd_estado = preprocessing.LabelEncoder()\n",
    "l_municipio = preprocessing.LabelEncoder()\n",
    "l_sexo = preprocessing.LabelEncoder()\n",
    "l_nb_actividad = preprocessing.LabelEncoder()\n",
    "l_nb_s2 = preprocessing.LabelEncoder()\n",
    "l_nb_s_nrb = preprocessing.LabelEncoder()\n",
    "l_rango_ventas = preprocessing.LabelEncoder()\n",
    "apidatos['Sexo'] = l_sexo.fit_transform(apidatos['Sexo'])\n",
    "apidatos['Tipo Persona'] = l_tipo_persona.fit_transform(apidatos['Tipo Persona'])\n",
    "apidatos['CD_ESTADO'] = l_cd_estado.fit_transform(apidatos['CD_ESTADO'])\n",
    "apidatos['Municipio'] = l_municipio.fit_transform(apidatos['Municipio'])\n",
    "apidatos['NB_ACTIVIDAD'] = l_nb_actividad.fit_transform(apidatos['NB_ACTIVIDAD'])\n",
    "apidatos['NB_SECTOR_N2'] = l_nb_s2.fit_transform(apidatos['NB_SECTOR_N2'])\n",
    "apidatos['NB_SEG_NRB_19'] = l_nb_s_nrb.fit_transform(apidatos['NB_SEG_NRB_19'])\n",
    "apidatos['Rango Ventas'] = l_rango_ventas.fit_transform(apidatos['Rango Ventas'])\n",
    "#TENEMOS QUE HACER FECHAS, volver ND numerico en ventas tpb\n",
    "#apidatos.dtypes"
   ]
  },
  {
   "cell_type": "code",
   "execution_count": 55,
   "metadata": {},
   "outputs": [
    {
     "data": {
      "text/plain": [
       "array(['113', '313', '321', '337', '541'], dtype=object)"
      ]
     },
     "execution_count": 55,
     "metadata": {},
     "output_type": "execute_result"
    }
   ],
   "source": [
    "modelo[0][1][0]"
   ]
  },
  {
   "cell_type": "code",
   "execution_count": 86,
   "metadata": {
    "scrolled": true
   },
   "outputs": [
    {
     "name": "stderr",
     "output_type": "stream",
     "text": [
      "Exception in Tkinter callback\n",
      "Traceback (most recent call last):\n",
      "  File \"/home/oscar/anaconda3/lib/python3.7/tkinter/__init__.py\", line 1705, in __call__\n",
      "    return self.func(*args)\n",
      "  File \"<ipython-input-86-6642f23d52ab>\", line 182, in <lambda>\n",
      "    boton_retr = Button(miFrame, text = 'Retroalimentación', command = lambda:Retroalimentacion(modelo))\n",
      "  File \"<ipython-input-86-6642f23d52ab>\", line 125, in Retroalimentacion\n",
      "    cuadroRecomendacion.insert(END, retro2)\n",
      "UnboundLocalError: local variable 'retro2' referenced before assignment\n"
     ]
    },
    {
     "data": {
      "image/png": "[encoded data removed]",
      "text/plain": [
       "<Figure size 432x288 with 1 Axes>"
      ]
     },
     "metadata": {
      "needs_background": "light"
     },
     "output_type": "display_data"
    }
   ],
   "source": [
    "from tkinter import *# Normal Tkinter.*widgets are not themed!from ttkthemes \n",
    "from tkinter.ttk import *\n",
    "from ttkthemes import ThemedTk\n",
    "import tkinter.messagebox as msg\n",
    "import tkinter.font as font\n",
    "import os.path\n",
    "import pandas as pd\n",
    "import numpy as np\n",
    "import matplotlib.pyplot as plt\n",
    "import random\n",
    "import matplotlib\n",
    "from matplotlib.backends.backend_tkagg import FigureCanvasTkAgg\n",
    "\n",
    "def Prom(Matriz):\n",
    "    #Obtenemos las dimensiones de la matriz \n",
    "    Ren = Matriz.shape[0]\n",
    "    Col = Matriz.shape[1]\n",
    "    aux = np.zeros(Ren)\n",
    "    for i in range(Ren):\n",
    "        suma = 0\n",
    "        for j in range (Col):\n",
    "            suma += Matriz[i,j]\n",
    "        #Obteniendo el promedio\n",
    "        aux[i] = suma / Ren\n",
    "    return aux\n",
    "\n",
    "#Proceso principial que recibe la matriz a analizar\n",
    "def Graf_Retro(Matriz, Modelo, Promedios = None):\n",
    "    Promedios = []\n",
    "    for i in Modelo[0][1][0]:\n",
    "        Ind_Promedios = list(Modelo[0][1][0]).index(i)\n",
    "        Promedios.append(Modelo[0][1][1][Ind_Promedios][9])\n",
    "    Matriz = np.mean(Matriz, axis = 0)\n",
    "    #Promedios = (np.random.random_sample((1,len(Matriz))) * Matriz) + (np.random.random_sample((1,len(Matriz))) * np.mean(Matriz))\n",
    "    Col = len(Matriz)\n",
    "    \n",
    "    plt.figure()\n",
    "    #plt.plot(Matriz,label = 'PyMe 1')\n",
    "    plt.plot(Promedios,label = \"Promedio\",color= \"Black\")\n",
    "       \n",
    "    plt.ylabel(\"Ventas\")\n",
    "    plt.xlabel(\"Valores por Empresa\")\n",
    "    plt.title(\"Categoría Mensual\")\n",
    "    \n",
    "    plt.xlim(-1, len(Matriz))\n",
    "    #plt.ylim(0,23)\n",
    "    \n",
    "    plt.grid()\n",
    "    plt.legend(loc = \"upper right\")\n",
    "    \n",
    "    Resta = np.mean(Matriz) - np.mean(Promedios[0])\n",
    "    Dif = Resta * 100 / np.mean(Promedios[0])\n",
    "    return Dif\n",
    "        \n",
    "    plt.show()\n",
    "    \n",
    "#-----------------------------Empieza lo de la Interface------------------------------------\n",
    "\n",
    "def agregar(x = None):\n",
    "    global resultado\n",
    "    numero = cuadroCantidad.get()\n",
    "    nombre = cuadroNombre.get()\n",
    "    resultado += float(numero)\n",
    "    cuadroResultado.config(state = ACTIVE)\n",
    "    Resultado.set(resultado)\n",
    "    cuadroResultado.config(state = DISABLED)\n",
    "    a = [float(numero),'\\t \\t \\t', nombre, '\\n']\n",
    "    TextoLargo.config(state = 'normal')\n",
    "    for i in range(4):\n",
    "        TextoLargo.insert(END,a[i])\n",
    "    TextoLargo.config(state = 'disabled')\n",
    "    \n",
    "    Cantidad.set('')\n",
    "    Nombre.set('')\n",
    "    \n",
    "    if not os.path.exists('ventas.csv'):\n",
    "        with open(\"ventas.csv\", \"w+\") as ventas:\n",
    "            ventas.write(\"DINERO,DESCRIPCION\\n\")\n",
    "            ventas.write(\"{} , {}\\n\".format(numero, nombre))\n",
    "    else:\n",
    "        with open(\"ventas.csv\", \"a+\") as ventas:\n",
    "            ventas.write(f\"{numero}, {nombre}\\n\")\n",
    "            \n",
    "def Retroalimentacion(Modelo):\n",
    "    #----------------------------------------Invocando al set que tengamos-------------------------------------\n",
    "    PyMe1 = np.random.random_sample((1,5))\n",
    "    tienda_real = pd.read_csv(\"tienda_real.csv\").apply(pd.to_numeric, errors = 'coerce')\n",
    "    \n",
    "    retro = Graf_Retro(tienda_real.values, Modelo)\n",
    "    \n",
    "    if retro < 0:\n",
    "        retro *= -1        \n",
    "        retro1 = \"La empresa está por debajo del promedio en un {0:.2f}\".format(retro), \"%\"\n",
    "    else:\n",
    "        retro1 = \"La empresa está por arriba del promedio en un {0:.2f}\".format(retro), \"%\"\n",
    "    \n",
    "    if retro <= 25:\n",
    "        retro2 =  \"Te recomendamos administrar un poco más tus gastos, los numeros obtenidos no son malos, pero a traves del flujo de inversión podrían mejorar bastante\"\n",
    "    if retro <= 50 and retro >= 26:\n",
    "        retro2 =  \"Los números obtenidos tienen un porcentaje bajo, recomendamos cambiar estrategia de venta o inversión, para mayor informacón asistir a sucursal.\"\n",
    "    if retro <= 100 and retro >= 51:\n",
    "        retro2 =  \"Los ingresos y egresos de tu empresa son numeros muertos, en BBVA te ofrecemos un plan de mejora con posibles resultados a corto plazo, te recomendamos asistir a sucursal o llamar vía telefónica de inmediato.\"\n",
    "        \n",
    "    raiz2 = ThemedTk(theme = 'equilux')\n",
    "    raiz2.resizable(0,0)\n",
    "    raiz2.title('Retroalimentación')\n",
    "    \n",
    "    miFrame2 = Frame(raiz2)\n",
    "    miFrame2.pack(expand = 1, fill=BOTH)\n",
    "    \n",
    "    #Nombre del recuadro grande\n",
    "    cuadroRecomendacionLabel = Label(miFrame2, text = 'Retroalmentación: ', \n",
    "                                     font = ('Times', 15, 'bold')).grid(row = 1, column = 0, pady = 5, padx = 0)\n",
    "    cuadroRecomendacion = Text(miFrame2, width = 42, height = 10, bg = 'grey')\n",
    "    cuadroRecomendacion.grid(row = 2, column = 0, padx = 20, pady = 5, columnspan = 2, rowspan = 7)\n",
    "    cuadroRecomendacion.config(state = DISABLED)\n",
    "    #Scroll del recuadro grande\n",
    "    scrolly = Scrollbar(miFrame2, command = TextoLargo.yview)\n",
    "    scrolly.grid(row = 2, column = 2, sticky = 'nsew')\n",
    "    cuadroRecomendacion.config(yscrollcommand  = scrolly.set)\n",
    "    \n",
    "    cuadroRecomendacion.config(state = 'normal')\n",
    "    cuadroRecomendacion.insert(END, retro1[0])\n",
    "    cuadroRecomendacion.insert(END, '\\n')\n",
    "    cuadroRecomendacion.insert(END, retro2)\n",
    "    cuadroRecomendacion.config(state = 'disabled')\n",
    "    \n",
    "    raiz2.mainloop()\n",
    "                         \n",
    "    \n",
    "raiz = ThemedTk(theme = 'equilux')\n",
    "raiz.resizable(0,0)\n",
    "raiz.title('BBVA PyMe')\n",
    "\n",
    "miFrame = Frame(raiz)\n",
    "miFrame.pack(expand = 1, fill=BOTH)\n",
    "\n",
    "resultado = 0\n",
    "dinero = []\n",
    "Cantidad = StringVar()\n",
    "Nombre = StringVar()\n",
    "Resultado = StringVar()\n",
    "\n",
    "#Crear cuadro para meter cantidades\n",
    "nombreCantidad_L = Label(miFrame, text = 'Cantidad: ', \n",
    "                         font = ('Times', 15, 'bold')).grid(row = 0, column = 0, sticky = 'w', pady = 5, padx = 20)\n",
    "cuadroCantidad = Entry(miFrame, textvariable = Cantidad)\n",
    "cuadroCantidad.grid(row = 1, column = 0, padx = 5)\n",
    "#Atributo del cuadro donde meteremos cantidades\n",
    "\n",
    "#Nombre del recuadro de lo que estoy\n",
    "nombreNombre_L = Label(miFrame, text = 'Nombre: ', \n",
    "                       font = ('Times', 15, 'bold')).grid(row = 0, column = 1, sticky = 'w', pady = 5, padx = 0)\n",
    "#Nombre de lo que estoy metiendo en la base\n",
    "cuadroNombre = Entry(miFrame, textvariable = Nombre)\n",
    "cuadroNombre.grid(row = 1, column = 1, padx = 0)\n",
    "if cuadroCantidad.get() == '':\n",
    "    cuadroNombre.bind('<Return>', agregar)\n",
    "\n",
    "#Nombre del recuadro grande\n",
    "TextoLargoLabel = Label(miFrame, text = 'Lista de finanzas: ',\n",
    "                        font = ('Times', 15, 'bold')).grid(row = 2, column = 0,sticky = 'e', pady = 5, padx = 0)\n",
    "#Recuadro grande donde irá guardando las cantidades insertadas\n",
    "TextoLargo = Text(miFrame, width = 42, height = 10, bg = 'grey')\n",
    "TextoLargo.grid(row = 3, column = 0, padx = 0, pady = 5, columnspan = 2, rowspan = 1)\n",
    "TextoLargo.config(state = 'disabled')\n",
    "\n",
    "#Scroll del recuadro grande\n",
    "scrolly = Scrollbar(miFrame, command = TextoLargo.yview)\n",
    "scrolly.grid(row = 3, column = 2, sticky = 'nsew')\n",
    "TextoLargo.config(yscrollcommand  = scrolly.set)\n",
    "\n",
    "#Imprimiendo el nombre 'Balance'\n",
    "nombreResultado_L = Label(miFrame, text = 'Balance: ', \n",
    "                          font = ('Times', 15, 'bold')).grid(row = 4,sticky = 'w', column = 0, pady = 10, padx = 20)\n",
    "#Recuadro del resultado de la suma de todas las transacciones\n",
    "cuadroResultado = Entry(miFrame, textvariable = Resultado)\n",
    "cuadroResultado.grid(row = 5, column = 0, padx = 0)\n",
    "cuadroResultado.config(state = DISABLED)\n",
    "\n",
    "#Botón retroalimentación\n",
    "boton_retr = Button(miFrame, text = 'Retroalimentación', command = lambda:Retroalimentacion(modelo))\n",
    "boton_retr.grid(row = 6, column = 1, pady = 10)\n",
    "#--------------------------------------------Impresión en .csv y manejo con Pandas-----------------------------\n",
    "datos = pd.read_csv(\"ventas.csv\", header = 0)\n",
    "\n",
    "Desc = datos['DESCRIPCION']\n",
    "\n",
    "Dif_descripcion = []\n",
    "for i in range(len(Desc)):\n",
    "    if Desc[i] not in Dif_descripcion:\n",
    "        Dif_descripcion.append(Desc[i])\n",
    "\n",
    "dic1 = {}\n",
    "data = datos.values\n",
    "cls_v = []\n",
    "for i in range(data.shape[0]):\n",
    "    cls = int(data[i,1])\n",
    "    dinero = data[i,0]\n",
    "    if cls not in dic1:\n",
    "        dic1[cls] = []\n",
    "    dic1[cls].append(dinero)\n",
    "\n",
    "maxi = 0\n",
    "for j in range(len(dic1)):\n",
    "    a = dic1[Dif_descripcion[j]]\n",
    "    if len(a) > maxi:\n",
    "        maxi = len(a)\n",
    "\n",
    "for k in range(len(dic1)):\n",
    "    b = dic1[Dif_descripcion[k]]\n",
    "    if len(b) < maxi:\n",
    "        for m in range(maxi - len(b)):\n",
    "            b.append(0)\n",
    "frame_dat = pd.DataFrame(dic1)\n",
    "frame_dat.to_csv(r'tienda_real.csv', index = False)\n",
    "\n",
    "raiz.mainloop()"
   ]
  },
  {
   "cell_type": "code",
   "execution_count": 80,
   "metadata": {},
   "outputs": [
    {
     "data": {
      "text/plain": [
       "array([-0.29935494, -0.11513652, -0.18421842, -0.21875938, -0.25330033,\n",
       "       -0.18421842, -0.18421842, -0.23487849, -0.21415392, -0.23027303,\n",
       "       -0.28784129, -0.3569232 ])"
      ]
     },
     "execution_count": 80,
     "metadata": {},
     "output_type": "execute_result"
    }
   ],
   "source": [
    "modelo[0][1][1][1]"
   ]
  },
  {
   "cell_type": "code",
   "execution_count": null,
   "metadata": {},
   "outputs": [],
   "source": []
  }
 ],
 "metadata": {
  "kernelspec": {
   "display_name": "Python 3",
   "language": "python",
   "name": "python3"
  },
  "language_info": {
   "codemirror_mode": {
    "name": "ipython",
    "version": 3
   },
   "file_extension": ".py",
   "mimetype": "text/x-python",
   "name": "python",
   "nbconvert_exporter": "python",
   "pygments_lexer": "ipython3",
   "version": "3.7.3"
  }
 },
 "nbformat": 4,
 "nbformat_minor": 2
}
