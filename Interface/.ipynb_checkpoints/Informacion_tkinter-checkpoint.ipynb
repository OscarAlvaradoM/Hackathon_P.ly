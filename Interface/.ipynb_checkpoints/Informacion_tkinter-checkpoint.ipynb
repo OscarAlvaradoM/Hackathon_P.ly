{
 "cells": [
  {
   "cell_type": "markdown",
   "metadata": {},
   "source": [
    "# Notebook Hackathon BBVA 2019"
   ]
  },
  {
   "cell_type": "code",
   "execution_count": 208,
   "metadata": {},
   "outputs": [],
   "source": [
    "from tkinter import *"
   ]
  },
  {
   "cell_type": "markdown",
   "metadata": {},
   "source": [
    "## Principal"
   ]
  },
  {
   "cell_type": "code",
   "execution_count": 257,
   "metadata": {},
   "outputs": [],
   "source": [
    "raiz = Tk()\n",
    "raiz.resizable(1,1)\n",
    "raiz.title('BBVA')\n",
    "raiz.grid_columnconfigure(0, weight=1)\n",
    "\n",
    "#raiz.geometry('650x350') #Tamaño específico\n",
    "\n",
    "miFrame = Frame(raiz)\n",
    "miFrame.pack(expand = 1, fill=BOTH)\n",
    "miFrame.config(bg = 'blue')\n",
    "#miFrame.config(width = '650', height = '350')\n",
    "\n",
    "Cantidad = StringVar()\n",
    "Nombre = StringVar()\n",
    "\n",
    "def Boton_Restar():\n",
    "    TextoLargo.insert(END,[Cantidad.get()])\n",
    "    \n",
    "def Boton_Sumar():\n",
    "    TextoLargo.insert(END,[Cantidad.get()])\n",
    "\n",
    "boton_mas = Button(miFrame, text = '+', command = Boton_Sumar)\n",
    "boton_mas.grid(row = 0, column = 2)\n",
    "\n",
    "boton_menos = Button(miFrame, text = '-', command = Boton_Restar)\n",
    "boton_menos.grid(row = 1, column = 2)\n",
    "\n",
    "cuadroCantidad = Entry(miFrame, textvariable = Cantidad)\n",
    "cuadroCantidad.grid(row = 0, column = 1)\n",
    "cuadroCantidad.config(fg = 'green', justify = 'right')\n",
    "\n",
    "nombreCantidad = Label(miFrame, text = 'Cantidad: ').grid(row = 0, column = 0, sticky = 'e', pady = 5)\n",
    "\n",
    "cuadroNombre = Entry(miFrame, textvariable = Nombre)\n",
    "cuadroNombre.grid(row = 1, column = 1)\n",
    "cuadroNombre.config(fg = 'green', justify = 'right')\n",
    "\n",
    "nombreNombre = Label(miFrame, text = 'Nombre: ').grid(row = 1, column = 0, sticky = 'e', pady = 5)\n",
    "\n",
    "TextoLargo = Text(miFrame, width = 20, height = 8)\n",
    "TextoLargo.grid(row = 2, column = 1, sticky = 'e', padx = 10, pady = 5)\n",
    "\n",
    "TextoLargoLabel = Label(miFrame, text = 'Lista de \\n finanzas: ').grid(row = 2, column = 0, sticky = 'e', pady = 5)\n",
    "\n",
    "scrolly = Scrollbar(miFrame, command = TextoLargo.yview)\n",
    "scrolly.grid(row = 2, column = 2, sticky = 'nsew')\n",
    "\n",
    "TextoLargo.config(yscrollcommand  = scrolly.set)\n",
    "\n",
    "raiz.mainloop()"
   ]
  },
  {
   "cell_type": "markdown",
   "metadata": {},
   "source": [
    "### Ventana"
   ]
  },
  {
   "cell_type": "code",
   "execution_count": 251,
   "metadata": {},
   "outputs": [],
   "source": [
    "master = Tk()\n",
    "master.title(\"Ventana\")\n",
    "#master.resizable(1,0) #(Ancho, Alto) #Ver si se puede cambiar las dimensiones en boolean\n",
    "#master.geometry('650x350') #Tamaño específico\n",
    "master.config(bg = 'blue')\n",
    "master.mainloop()"
   ]
  },
  {
   "cell_type": "markdown",
   "metadata": {},
   "source": [
    "### Crear el Frame"
   ]
  },
  {
   "cell_type": "code",
   "execution_count": 238,
   "metadata": {},
   "outputs": [],
   "source": [
    "##Todo lo de aquí también se le puede aplicar a la raiz\n",
    "\n",
    "master = Tk()\n",
    "master.title(\"Ventana\")\n",
    "master.resizable(1,1) #(Ancho, Alto) #Ver si se puede cambiar las dimensiones en boolean\n",
    "#master.geometry('650x350') #Tamaño específico\n",
    "master.config(bg = 'blue')\n",
    "\n",
    "miFrame = Frame()\n",
    "\n",
    "#miFrame.pack()\n",
    "\n",
    "#miFrame.pack(side = 'left', anchor = 'n') #Dónde estará nuestro frame\n",
    "\n",
    "#miFrame.config(fill = 'x') #Se expande dirección horizontal\n",
    "\n",
    "#miFrame.config(fill = 'y', expand = 'True') #Se expande dirección vertical\n",
    "\n",
    "#miFrame.config(fill = 'both', expand = 'True') #Se expande en ambas direcciones\n",
    "\n",
    "miFrame.config(bd = 20)\n",
    "\n",
    "miFrame.config(relief = 'sunken') #Borde tipo groove\n",
    "\n",
    "miFrame.config(bg = 'red') #Color del Frame\n",
    "\n",
    "miFrame.config(width = '650', height = '350') #Me cambia el tamaño máximo del Frame\n",
    "\n",
    "miFrame.config(cursor = 'hand2')\n",
    "\n",
    "master.mainloop()"
   ]
  },
  {
   "cell_type": "markdown",
   "metadata": {},
   "source": [
    "### Texto / Label"
   ]
  },
  {
   "cell_type": "code",
   "execution_count": 12,
   "metadata": {},
   "outputs": [],
   "source": [
    "raiz = Tk()\n",
    "\n",
    "miFrame = Frame(raiz, width = 500, height = 400)\n",
    "\n",
    "miFrame.pack()\n",
    "\n",
    "#miLabel = Label(miFrame, text = 'Hola') # Creo el texto que quiero que se muestre en la ventana\n",
    "\n",
    "#miLabel.place(x = 100, y = 200) ##Coloca el texto en donde yo le esté diciendo\n",
    "\n",
    "#Manera más compacta de poner lo de arriba\n",
    "\n",
    "Label(miFrame, text = 'Hola', fg = 'red', font = (\"Comic Sans MS\",13)).place(x = 100, y = 200)\n",
    "\n",
    "raiz.mainloop()"
   ]
  },
  {
   "cell_type": "code",
   "execution_count": 13,
   "metadata": {},
   "outputs": [],
   "source": [
    "raiz = Tk()\n",
    "\n",
    "miFrame = Frame(raiz, width = 500, height = 400)\n",
    "\n",
    "miFrame.pack()\n",
    "\n",
    "miImage = PhotoImage(file = 'BBVA.png')\n",
    "\n",
    "#miLabel = Label(miFrame, text = 'Hola') # Creo el texto que quiero que se muestre en la ventana\n",
    "\n",
    "#miLabel.place(x = 100, y = 200) ##Coloca el texto en donde yo le esté diciendo\n",
    "\n",
    "#Manera más compacta de poner lo de arriba\n",
    "\n",
    "Label(miFrame, image = miImage).place(x = 0, y = 0)\n",
    "\n",
    "raiz.mainloop()"
   ]
  },
  {
   "cell_type": "markdown",
   "metadata": {},
   "source": [
    "### Cuadros de Texto"
   ]
  },
  {
   "cell_type": "code",
   "execution_count": 29,
   "metadata": {},
   "outputs": [],
   "source": [
    "raiz = Tk()\n",
    "\n",
    "miFrame = Frame(raiz, width = '600', height = '300')\n",
    "miFrame.pack()\n",
    "\n",
    "cuadroTexto = Entry(miFrame)\n",
    "cuadroTexto.place(x = 0, y = 0)\n",
    "\n",
    "nombreLabel = Label(miFrame, text = 'Nombre: ').place(x = 0, y = 0)\n",
    "\n",
    "raiz.mainloop()"
   ]
  },
  {
   "cell_type": "markdown",
   "metadata": {},
   "source": [
    "### Cuadros de texto con Casillas / Grid (contraseña)"
   ]
  },
  {
   "cell_type": "code",
   "execution_count": 50,
   "metadata": {},
   "outputs": [],
   "source": [
    "raiz = Tk()\n",
    "raiz.resizable(0,0) \n",
    "\n",
    "miFrame = Frame(raiz, width = '600', height = '300')\n",
    "miFrame.pack()\n",
    "\n",
    "cuadroTexto = Entry(miFrame)\n",
    "cuadroTexto.grid(row = 0, column = 1)\n",
    "cuadroTexto.config(fg = 'red', justify = 'right')\n",
    "\n",
    "contraseñaTexto = Entry(miFrame)\n",
    "contraseñaTexto.grid(row = 1, column = 1)\n",
    "contraseñaTexto.config(show = '*')\n",
    "\n",
    "contraseñaLabel = Label(miFrame, text = 'Contraseña: ').grid(row = 1, column = 0, sticky = 'e', pady = 10)\n",
    "nombreLabel = Label(miFrame, text = 'Producto: ').grid(row = 0, column = 0, sticky = 'e', pady = 10)#, padx = 30)\n",
    "\n",
    "raiz.mainloop()"
   ]
  },
  {
   "cell_type": "markdown",
   "metadata": {},
   "source": [
    "### Texto largo"
   ]
  },
  {
   "cell_type": "code",
   "execution_count": 92,
   "metadata": {},
   "outputs": [],
   "source": [
    "raiz = Tk()\n",
    "raiz.resizable(1,1) \n",
    "\n",
    "miFrame = Frame(raiz, width = '600', height = '300')\n",
    "miFrame.pack()\n",
    "\n",
    "TextoLargo = Text(miFrame, width = 20, height = 8)\n",
    "TextoLargo.grid(row = 0, column = 1, sticky = 'e', padx = 10, pady = 10)\n",
    "\n",
    "TextoLargoLabel = Label(miFrame, text = 'Comentarios').grid(row = 0, column = 0, sticky = 'e', pady = 10)\n",
    "\n",
    "scrolly = Scrollbar(miFrame, command = TextoLargo.yview)\n",
    "scrolly.grid(row = 0, column = 2, sticky = 'nsew')\n",
    "\n",
    "TextoLargo.config(yscrollcommand  = scrolly.set)\n",
    "\n",
    "raiz.mainloop()"
   ]
  },
  {
   "cell_type": "markdown",
   "metadata": {},
   "source": [
    "### Botón"
   ]
  },
  {
   "cell_type": "code",
   "execution_count": 134,
   "metadata": {},
   "outputs": [],
   "source": [
    "raiz = Tk()\n",
    "raiz.resizable(1,1) \n",
    "\n",
    "miFrame = Frame(raiz, width = '600', height = '300')\n",
    "miFrame.pack()\n",
    "\n",
    "info = StringVar()\n",
    "com = StringVar()\n",
    "\n",
    "cuadroTexto = Entry(miFrame, textvariable = info)\n",
    "cuadroTexto.grid(row = 0, column = 1)\n",
    "cuadroTexto.config(fg = 'red', justify = 'right')\n",
    "\n",
    "nombreLabel = Label(miFrame, text = 'Producto: ').grid(row = 0, column = 0, sticky = 'e', pady = 10)#, padx = 30)\n",
    "\n",
    "TextoLargo = Text(miFrame, width = 20, height = 8)\n",
    "TextoLargo.grid(row = 1, column = 1, sticky = 'e', padx = 10, pady = 10)\n",
    "\n",
    "TextoLargoLabel = Label(miFrame, text = 'Comentarios').grid(row = 1, column = 0, sticky = 'e', pady = 10)\n",
    "\n",
    "scrolly = Scrollbar(miFrame, command = TextoLargo.yview)\n",
    "scrolly.grid(row = 1, column = 2, sticky = 'nsew')\n",
    "\n",
    "TextoLargo.config(yscrollcommand  = scrolly.set)\n",
    "\n",
    "def codigoBoton():\n",
    "    TextoLargo.insert(END,['Perro \\t'])\n",
    "    \n",
    "def codigoBoton2():\n",
    "    TextoLargo.insert(INSERT,[info.get()])\n",
    "\n",
    "boton_mas = Button(raiz, text = '+', command = codigoBoton2)\n",
    "boton_mas.pack()\n",
    "\n",
    "boton_menos = Button(raiz, text = '-', command = codigoBoton)\n",
    "boton_menos.pack()\n",
    "\n",
    "raiz.mainloop()"
   ]
  },
  {
   "cell_type": "code",
   "execution_count": 118,
   "metadata": {},
   "outputs": [
    {
     "name": "stdout",
     "output_type": "stream",
     "text": [
      "jjhbjhb\n",
      "jjhbjhbbbbbbbbbb b\n",
      "jk\n"
     ]
    },
    {
     "ename": "TclError",
     "evalue": "can't invoke \"entry\" command: application has been destroyed",
     "output_type": "error",
     "traceback": [
      "\u001b[0;31m---------------------------------------------------------------------------\u001b[0m",
      "\u001b[0;31mTclError\u001b[0m                                  Traceback (most recent call last)",
      "\u001b[0;32m<ipython-input-118-074aeccdb80f>\u001b[0m in \u001b[0;36m<module>\u001b[0;34m\u001b[0m\n\u001b[1;32m     14\u001b[0m \u001b[0mmainloop\u001b[0m\u001b[0;34m(\u001b[0m\u001b[0;34m)\u001b[0m\u001b[0;34m\u001b[0m\u001b[0m\n\u001b[1;32m     15\u001b[0m \u001b[0;34m\u001b[0m\u001b[0m\n\u001b[0;32m---> 16\u001b[0;31m \u001b[0me\u001b[0m \u001b[0;34m=\u001b[0m \u001b[0mEntry\u001b[0m\u001b[0;34m(\u001b[0m\u001b[0mmaster\u001b[0m\u001b[0;34m,\u001b[0m \u001b[0mwidth\u001b[0m\u001b[0;34m=\u001b[0m\u001b[0;36m50\u001b[0m\u001b[0;34m)\u001b[0m\u001b[0;34m\u001b[0m\u001b[0m\n\u001b[0m\u001b[1;32m     17\u001b[0m \u001b[0me\u001b[0m\u001b[0;34m.\u001b[0m\u001b[0mpack\u001b[0m\u001b[0;34m(\u001b[0m\u001b[0;34m)\u001b[0m\u001b[0;34m\u001b[0m\u001b[0m\n\u001b[1;32m     18\u001b[0m \u001b[0;34m\u001b[0m\u001b[0m\n",
      "\u001b[0;32m~/anaconda3/lib/python3.7/tkinter/__init__.py\u001b[0m in \u001b[0;36m__init__\u001b[0;34m(self, master, cnf, **kw)\u001b[0m\n\u001b[1;32m   2671\u001b[0m         \u001b[0mtextvariable\u001b[0m\u001b[0;34m,\u001b[0m \u001b[0mvalidate\u001b[0m\u001b[0;34m,\u001b[0m \u001b[0mvalidatecommand\u001b[0m\u001b[0;34m,\u001b[0m \u001b[0mvcmd\u001b[0m\u001b[0;34m,\u001b[0m \u001b[0mwidth\u001b[0m\u001b[0;34m,\u001b[0m\u001b[0;34m\u001b[0m\u001b[0m\n\u001b[1;32m   2672\u001b[0m         xscrollcommand.\"\"\"\n\u001b[0;32m-> 2673\u001b[0;31m         \u001b[0mWidget\u001b[0m\u001b[0;34m.\u001b[0m\u001b[0m__init__\u001b[0m\u001b[0;34m(\u001b[0m\u001b[0mself\u001b[0m\u001b[0;34m,\u001b[0m \u001b[0mmaster\u001b[0m\u001b[0;34m,\u001b[0m \u001b[0;34m'entry'\u001b[0m\u001b[0;34m,\u001b[0m \u001b[0mcnf\u001b[0m\u001b[0;34m,\u001b[0m \u001b[0mkw\u001b[0m\u001b[0;34m)\u001b[0m\u001b[0;34m\u001b[0m\u001b[0m\n\u001b[0m\u001b[1;32m   2674\u001b[0m     \u001b[0;32mdef\u001b[0m \u001b[0mdelete\u001b[0m\u001b[0;34m(\u001b[0m\u001b[0mself\u001b[0m\u001b[0;34m,\u001b[0m \u001b[0mfirst\u001b[0m\u001b[0;34m,\u001b[0m \u001b[0mlast\u001b[0m\u001b[0;34m=\u001b[0m\u001b[0;32mNone\u001b[0m\u001b[0;34m)\u001b[0m\u001b[0;34m:\u001b[0m\u001b[0;34m\u001b[0m\u001b[0m\n\u001b[1;32m   2675\u001b[0m         \u001b[0;34m\"\"\"Delete text from FIRST to LAST (not included).\"\"\"\u001b[0m\u001b[0;34m\u001b[0m\u001b[0m\n",
      "\u001b[0;32m~/anaconda3/lib/python3.7/tkinter/__init__.py\u001b[0m in \u001b[0;36m__init__\u001b[0;34m(self, master, widgetName, cnf, kw, extra)\u001b[0m\n\u001b[1;32m   2294\u001b[0m             \u001b[0;32mdel\u001b[0m \u001b[0mcnf\u001b[0m\u001b[0;34m[\u001b[0m\u001b[0mk\u001b[0m\u001b[0;34m]\u001b[0m\u001b[0;34m\u001b[0m\u001b[0m\n\u001b[1;32m   2295\u001b[0m         self.tk.call(\n\u001b[0;32m-> 2296\u001b[0;31m             (widgetName, self._w) + extra + self._options(cnf))\n\u001b[0m\u001b[1;32m   2297\u001b[0m         \u001b[0;32mfor\u001b[0m \u001b[0mk\u001b[0m\u001b[0;34m,\u001b[0m \u001b[0mv\u001b[0m \u001b[0;32min\u001b[0m \u001b[0mclasses\u001b[0m\u001b[0;34m:\u001b[0m\u001b[0;34m\u001b[0m\u001b[0m\n\u001b[1;32m   2298\u001b[0m             \u001b[0mk\u001b[0m\u001b[0;34m.\u001b[0m\u001b[0mconfigure\u001b[0m\u001b[0;34m(\u001b[0m\u001b[0mself\u001b[0m\u001b[0;34m,\u001b[0m \u001b[0mv\u001b[0m\u001b[0;34m)\u001b[0m\u001b[0;34m\u001b[0m\u001b[0m\n",
      "\u001b[0;31mTclError\u001b[0m: can't invoke \"entry\" command: application has been destroyed"
     ]
    }
   ],
   "source": [
    "master = Tk()\n",
    "\n",
    "e = Entry(master)\n",
    "e.pack()\n",
    "\n",
    "e.focus_set()\n",
    "\n",
    "def callback():\n",
    "    print (e.get())\n",
    "\n",
    "b = Button(master, text=\"get\", width=10, command=callback)\n",
    "b.pack()\n",
    "\n",
    "mainloop()\n",
    "\n",
    "e = Entry(master, width=50)\n",
    "e.pack()\n",
    "\n",
    "text = e.get()\n",
    "\n",
    "def makeentry(parent, caption, width=None, **options):\n",
    "    Label(parent, text=caption).pack(side=LEFT)\n",
    "    entry = Entry(parent, **options)\n",
    "    if width:\n",
    "        entry.config(width=width)\n",
    "    entry.pack(side=LEFT)\n",
    "    return entry\n",
    "\n",
    "user = makeentry(parent, \"User name:\", 10)\n",
    "password = makeentry(parent, \"Password:\", 10, show=\"*\")\n",
    "\n",
    "content = StringVar()\n",
    "entry = Entry(parent, text=caption, textvariable=content)\n",
    "\n",
    "text = content.get()\n",
    "content.set(text)"
   ]
  },
  {
   "cell_type": "markdown",
   "metadata": {},
   "source": [
    "### Ejemplo 'Hola mundo'"
   ]
  },
  {
   "cell_type": "code",
   "execution_count": 16,
   "metadata": {},
   "outputs": [],
   "source": [
    "import tkinter as tk\n",
    "\n",
    "class Application(tk.Frame):\n",
    "    def __init__(self, master=None):\n",
    "        super().__init__(master)\n",
    "        self.master = master\n",
    "        self.pack()\n",
    "        self.create_widgets()\n",
    "\n",
    "    def create_widgets(self):\n",
    "        self.hi_there = tk.Button(self)\n",
    "        self.hi_there[\"text\"] = \"Hello World\\n(click me)\"\n",
    "        self.hi_there[\"command\"] = self.say_hi\n",
    "        self.hi_there.pack(side=\"top\")\n",
    "\n",
    "        self.quit = tk.Button(self, text=\"QUIT\", fg=\"red\",\n",
    "                              command=self.master.destroy)\n",
    "        self.quit.pack(side=\"bottom\")\n",
    "\n",
    "    def say_hi(self):\n",
    "        print(\"hi there, everyone!\")\n",
    "\n",
    "root = tk.Tk()\n",
    "app = Application(master=root)\n",
    "app.mainloop()"
   ]
  },
  {
   "cell_type": "code",
   "execution_count": null,
   "metadata": {},
   "outputs": [],
   "source": []
  }
 ],
 "metadata": {
  "kernelspec": {
   "display_name": "Python 3",
   "language": "python",
   "name": "python3"
  },
  "language_info": {
   "codemirror_mode": {
    "name": "ipython",
    "version": 3
   },
   "file_extension": ".py",
   "mimetype": "text/x-python",
   "name": "python",
   "nbconvert_exporter": "python",
   "pygments_lexer": "ipython3",
   "version": "3.7.0"
  }
 },
 "nbformat": 4,
 "nbformat_minor": 2
}
