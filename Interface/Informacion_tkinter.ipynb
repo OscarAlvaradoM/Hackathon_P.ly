{
 "cells": [
  {
   "cell_type": "markdown",
   "metadata": {},
   "source": [
    "# Notebook Hackathon BBVA 2019"
   ]
  },
  {
   "cell_type": "markdown",
   "metadata": {},
   "source": [
    "## Principal"
   ]
  },
  {
   "cell_type": "code",
   "execution_count": 395,
   "metadata": {},
   "outputs": [],
   "source": [
    "import numpy as np\n",
    "import pandas as pd"
   ]
  },
  {
   "cell_type": "code",
   "execution_count": 402,
   "metadata": {
    "scrolled": true
   },
   "outputs": [],
   "source": [
    "from tkinter import *# Normal Tkinter.*widgets are not themed!from ttkthemes \n",
    "from tkinter.ttk import *\n",
    "from ttkthemes import ThemedTk\n",
    "import tkinter.messagebox as msg\n",
    "import tkinter.font as tkFont\n",
    "import os.path\n",
    "\n",
    "def agregar(x = None):\n",
    "    global resultado\n",
    "    numero = cuadroCantidad.get()\n",
    "    nombre = cuadroNombre.get()\n",
    "    resultado += float(numero)\n",
    "    cuadroResultado.config(state = ACTIVE)\n",
    "    Resultado.set(resultado)\n",
    "    cuadroResultado.config(state = DISABLED)\n",
    "    a = [float(numero),'\\t \\t \\t', nombre, '\\n']\n",
    "    TextoLargo.config(state = 'normal')\n",
    "    for i in range(4):\n",
    "        TextoLargo.insert(END,a[i])\n",
    "    TextoLargo.config(state = 'disabled')\n",
    "    \n",
    "    Cantidad.set('')\n",
    "    Nombre.set('')\n",
    "    if not os.path.exists('ventas.csv'):\n",
    "        with open(\"ventas.csv\", \"w+\") as ventas:\n",
    "            ventas.write(\"Dinero , Descripción\\n\")\n",
    "            ventas.write(f\"{numero} , {nombre}\\n\")\n",
    "    else:\n",
    "        with open(\"ventas.csv\", \"a+\") as ventas:\n",
    "            ventas.write(f\"{numero}, {nombre}\\n\")\n",
    "\n",
    "raiz = ThemedTk(theme = 'equilux')\n",
    "raiz.resizable(0,0)\n",
    "raiz.title('BBVA')\n",
    "\n",
    "miFrame = Frame(raiz)\n",
    "miFrame.pack(expand = 1, fill=BOTH)\n",
    "\n",
    "resultado = 0\n",
    "dinero = []\n",
    "Cantidad = StringVar()\n",
    "Nombre = StringVar()\n",
    "Resultado = StringVar()\n",
    "\n",
    "#Crear cuadro para meter cantidades\n",
    "nombreCantidad_L = Label(miFrame, text = 'Cantidad: ', \n",
    "                         font = ('Times', 15, 'bold')).grid(row = 0, column = 0, sticky = 'w', pady = 5, padx = 20)\n",
    "cuadroCantidad = Entry(miFrame, textvariable = Cantidad)\n",
    "cuadroCantidad.grid(row = 1, column = 0, padx = 5)\n",
    "#Atributo del cuadro donde meteremos cantidades\n",
    "\n",
    "#Nombre del recuadro de lo que estoy\n",
    "nombreNombre_L = Label(miFrame, text = 'Nombre: ', \n",
    "                       font = ('Times', 15, 'bold')).grid(row = 0, column = 1, sticky = 'w', pady = 5, padx = 0)\n",
    "#Nombre de lo que estoy metiendo en la base\n",
    "cuadroNombre = Entry(miFrame, textvariable = Nombre)\n",
    "cuadroNombre.grid(row = 1, column = 1, padx = 0)\n",
    "if cuadroCantidad.get() == '':\n",
    "    cuadroNombre.bind('<Return>', agregar)\n",
    "\n",
    "#Nombre del recuadro grande\n",
    "TextoLargoLabel = Label(miFrame, text = 'Lista de finanzas: ',\n",
    "                        font = ('Times', 15, 'bold')).grid(row = 2, column = 0, pady = 5, padx = 0)\n",
    "#Recuadro grande donde irá guardando las cantidadesinsertadas\n",
    "TextoLargo = Text(miFrame, width = 42, height = 10, bg = 'grey')\n",
    "TextoLargo.grid(row = 3, column = 0, padx = 0, pady = 5, columnspan = 2, rowspan = 1)\n",
    "TextoLargo.config(state = 'disabled')\n",
    "\n",
    "#Scroll del recuadro grande\n",
    "scrolly = ttk.Scrollbar(miFrame, command = TextoLargo.yview)\n",
    "scrolly.grid(row = 3, column = 2, sticky = 'nsew')\n",
    "TextoLargo.config(yscrollcommand  = scrolly.set)\n",
    "\n",
    "#cuadroResultado.config(fg = 'green', justify = 'right')\n",
    "nombreResultado_L = Label(miFrame, text = 'Balance: ', \n",
    "                          font = ('Times', 15, 'bold')).grid(row = 4, column = 0, pady = 10, padx = 20)\n",
    "#Recuadro del resultado de la suma de todas las transacciones\n",
    "cuadroResultado = Entry(miFrame, textvariable = Resultado)\n",
    "cuadroResultado.grid(row = 5, column = 0, padx = 0)\n",
    "cuadroResultado.config(state = DISABLED)\n",
    "\n",
    "#Nombre del recuadro grande\n",
    "cuadroRecomendacionLabel = Label(miFrame, text = 'Retroalmentación: ', \n",
    "                                 font = ('Times', 15, 'bold')).grid(row = 6, column = 0, pady = 5, padx = 0)\n",
    "cuadroRecomendacion = Text(miFrame, width = 42, height = 10, bg = 'grey')\n",
    "cuadroRecomendacion.grid(row = 7, column = 0, padx = 0, pady = 5, columnspan = 2, rowspan = 7)\n",
    "                         \n",
    "#Scroll del recuadro grande\n",
    "scrolly = Scrollbar(miFrame, command = TextoLargo.yview)\n",
    "scrolly.grid(row = 7, column = 2, sticky = 'nsew')\n",
    "cuadroRecomendacion.config(yscrollcommand  = scrolly.set)\n",
    "\n",
    "raiz.mainloop()"
   ]
  },
  {
   "cell_type": "code",
   "execution_count": 403,
   "metadata": {
    "scrolled": true
   },
   "outputs": [
    {
     "data": {
      "text/html": [
       "<div>\n",
       "<style scoped>\n",
       "    .dataframe tbody tr th:only-of-type {\n",
       "        vertical-align: middle;\n",
       "    }\n",
       "\n",
       "    .dataframe tbody tr th {\n",
       "        vertical-align: top;\n",
       "    }\n",
       "\n",
       "    .dataframe thead th {\n",
       "        text-align: right;\n",
       "    }\n",
       "</style>\n",
       "<table border=\"1\" class=\"dataframe\">\n",
       "  <thead>\n",
       "    <tr style=\"text-align: right;\">\n",
       "      <th></th>\n",
       "      <th>DINERO</th>\n",
       "      <th>DESCRIPCION</th>\n",
       "    </tr>\n",
       "  </thead>\n",
       "  <tbody>\n",
       "    <tr>\n",
       "      <th>0</th>\n",
       "      <td>1243.0</td>\n",
       "      <td>313</td>\n",
       "    </tr>\n",
       "    <tr>\n",
       "      <th>1</th>\n",
       "      <td>-758.0</td>\n",
       "      <td>541</td>\n",
       "    </tr>\n",
       "    <tr>\n",
       "      <th>2</th>\n",
       "      <td>-200.0</td>\n",
       "      <td>113</td>\n",
       "    </tr>\n",
       "    <tr>\n",
       "      <th>3</th>\n",
       "      <td>55.4</td>\n",
       "      <td>337</td>\n",
       "    </tr>\n",
       "    <tr>\n",
       "      <th>4</th>\n",
       "      <td>3.0</td>\n",
       "      <td>321</td>\n",
       "    </tr>\n",
       "    <tr>\n",
       "      <th>5</th>\n",
       "      <td>-2438.0</td>\n",
       "      <td>313</td>\n",
       "    </tr>\n",
       "    <tr>\n",
       "      <th>6</th>\n",
       "      <td>1050.0</td>\n",
       "      <td>113</td>\n",
       "    </tr>\n",
       "    <tr>\n",
       "      <th>7</th>\n",
       "      <td>-123.0</td>\n",
       "      <td>321</td>\n",
       "    </tr>\n",
       "    <tr>\n",
       "      <th>8</th>\n",
       "      <td>116.5</td>\n",
       "      <td>337</td>\n",
       "    </tr>\n",
       "    <tr>\n",
       "      <th>9</th>\n",
       "      <td>1237.0</td>\n",
       "      <td>541</td>\n",
       "    </tr>\n",
       "    <tr>\n",
       "      <th>10</th>\n",
       "      <td>67.0</td>\n",
       "      <td>987</td>\n",
       "    </tr>\n",
       "  </tbody>\n",
       "</table>\n",
       "</div>"
      ],
      "text/plain": [
       "    DINERO  DESCRIPCION\n",
       "0   1243.0          313\n",
       "1   -758.0          541\n",
       "2   -200.0          113\n",
       "3     55.4          337\n",
       "4      3.0          321\n",
       "5  -2438.0          313\n",
       "6   1050.0          113\n",
       "7   -123.0          321\n",
       "8    116.5          337\n",
       "9   1237.0          541\n",
       "10    67.0          987"
      ]
     },
     "execution_count": 403,
     "metadata": {},
     "output_type": "execute_result"
    }
   ],
   "source": [
    "datos = pd.read_csv(\"ventas.csv\", header = 0)\n",
    "datos"
   ]
  },
  {
   "cell_type": "markdown",
   "metadata": {},
   "source": [
    "### Ventana"
   ]
  },
  {
   "cell_type": "code",
   "execution_count": 2,
   "metadata": {},
   "outputs": [],
   "source": [
    "master = Tk()\n",
    "master.title(\"Ventana\")\n",
    "#master.resizable(1,0) #(Ancho, Alto) #Ver si se puede cambiar las dimensiones en boolean\n",
    "#master.geometry('650x350') #Tamaño específico\n",
    "master.config(bg = 'blue')\n",
    "master.mainloop()"
   ]
  },
  {
   "cell_type": "markdown",
   "metadata": {},
   "source": [
    "### Crear el Frame"
   ]
  },
  {
   "cell_type": "code",
   "execution_count": 238,
   "metadata": {},
   "outputs": [],
   "source": [
    "##Todo lo de aquí también se le puede aplicar a la raiz\n",
    "\n",
    "master = Tk()\n",
    "master.title(\"Ventana\")\n",
    "master.resizable(1,1) #(Ancho, Alto) #Ver si se puede cambiar las dimensiones en boolean\n",
    "#master.geometry('650x350') #Tamaño específico\n",
    "master.config(bg = 'blue')\n",
    "\n",
    "miFrame = Frame()\n",
    "\n",
    "#miFrame.pack()\n",
    "\n",
    "#miFrame.pack(side = 'left', anchor = 'n') #Dónde estará nuestro frame\n",
    "\n",
    "#miFrame.config(fill = 'x') #Se expande dirección horizontal\n",
    "\n",
    "#miFrame.config(fill = 'y', expand = 'True') #Se expande dirección vertical\n",
    "\n",
    "#miFrame.config(fill = 'both', expand = 'True') #Se expande en ambas direcciones\n",
    "\n",
    "miFrame.config(bd = 20)\n",
    "\n",
    "miFrame.config(relief = 'sunken') #Borde tipo groove\n",
    "\n",
    "miFrame.config(bg = 'red') #Color del Frame\n",
    "\n",
    "miFrame.config(width = '650', height = '350') #Me cambia el tamaño máximo del Frame\n",
    "\n",
    "miFrame.config(cursor = 'hand2')\n",
    "\n",
    "master.mainloop()"
   ]
  },
  {
   "cell_type": "markdown",
   "metadata": {},
   "source": [
    "### Texto / Label"
   ]
  },
  {
   "cell_type": "code",
   "execution_count": 12,
   "metadata": {},
   "outputs": [],
   "source": [
    "raiz = Tk()\n",
    "\n",
    "miFrame = Frame(raiz, width = 500, height = 400)\n",
    "\n",
    "miFrame.pack()\n",
    "\n",
    "#miLabel = Label(miFrame, text = 'Hola') # Creo el texto que quiero que se muestre en la ventana\n",
    "\n",
    "#miLabel.place(x = 100, y = 200) ##Coloca el texto en donde yo le esté diciendo\n",
    "\n",
    "#Manera más compacta de poner lo de arriba\n",
    "\n",
    "Label(miFrame, text = 'Hola', fg = 'red', font = (\"Comic Sans MS\",13)).place(x = 100, y = 200)\n",
    "\n",
    "raiz.mainloop()"
   ]
  },
  {
   "cell_type": "code",
   "execution_count": 13,
   "metadata": {},
   "outputs": [],
   "source": [
    "raiz = Tk()\n",
    "\n",
    "miFrame = Frame(raiz, width = 500, height = 400)\n",
    "\n",
    "miFrame.pack()\n",
    "\n",
    "miImage = PhotoImage(file = 'BBVA.png')\n",
    "\n",
    "#miLabel = Label(miFrame, text = 'Hola') # Creo el texto que quiero que se muestre en la ventana\n",
    "\n",
    "#miLabel.place(x = 100, y = 200) ##Coloca el texto en donde yo le esté diciendo\n",
    "\n",
    "#Manera más compacta de poner lo de arriba\n",
    "\n",
    "Label(miFrame, image = miImage).place(x = 0, y = 0)\n",
    "\n",
    "raiz.mainloop()"
   ]
  },
  {
   "cell_type": "markdown",
   "metadata": {},
   "source": [
    "### Cuadros de Texto"
   ]
  },
  {
   "cell_type": "code",
   "execution_count": 17,
   "metadata": {},
   "outputs": [],
   "source": [
    "raiz = Tk()\n",
    "\n",
    "miFrame = Frame(raiz, width = '600', height = '300')\n",
    "miFrame.pack()\n",
    "\n",
    "cuadroTexto = Entry(miFrame)\n",
    "cuadroTexto.place(x = 0, y = 0)\n",
    "\n",
    "nombreLabel = Label(miFrame, text = 'Nombre: ').place(x = 0, y = 0)\n",
    "\n",
    "raiz.mainloop()"
   ]
  },
  {
   "cell_type": "markdown",
   "metadata": {},
   "source": [
    "### Cuadros de texto con Casillas / Grid (contraseña)"
   ]
  },
  {
   "cell_type": "code",
   "execution_count": 16,
   "metadata": {},
   "outputs": [],
   "source": [
    "raiz = Tk()\n",
    "raiz.resizable(0,0) \n",
    "\n",
    "miFrame = Frame(raiz, width = '600', height = '300')\n",
    "miFrame.pack()\n",
    "\n",
    "cuadroTexto = Entry(miFrame)\n",
    "cuadroTexto.grid(row = 0, column = 1)\n",
    "cuadroTexto.config(fg = 'red', justify = 'right')\n",
    "\n",
    "contraseñaTexto = Entry(miFrame)\n",
    "contraseñaTexto.grid(row = 1, column = 1)\n",
    "contraseñaTexto.config(show = '*')\n",
    "\n",
    "contraseñaLabel = Label(miFrame, text = 'Contraseña: ').grid(row = 1, column = 0, sticky = 'e', pady = 10)\n",
    "nombreLabel = Label(miFrame, text = 'Producto: ').grid(row = 0, column = 0, sticky = 'e', pady = 10)#, padx = 30)\n",
    "\n",
    "raiz.mainloop()"
   ]
  },
  {
   "cell_type": "markdown",
   "metadata": {},
   "source": [
    "### Texto largo"
   ]
  },
  {
   "cell_type": "code",
   "execution_count": 92,
   "metadata": {},
   "outputs": [],
   "source": [
    "raiz = Tk()\n",
    "raiz.resizable(1,1) \n",
    "\n",
    "miFrame = Frame(raiz, width = '600', height = '300')\n",
    "miFrame.pack()\n",
    "\n",
    "TextoLargo = Text(miFrame, width = 20, height = 8)\n",
    "TextoLargo.grid(row = 0, column = 1, sticky = 'e', padx = 10, pady = 10)\n",
    "\n",
    "TextoLargoLabel = Label(miFrame, text = 'Comentarios').grid(row = 0, column = 0, sticky = 'e', pady = 10)\n",
    "\n",
    "scrolly = Scrollbar(miFrame, command = TextoLargo.yview)\n",
    "scrolly.grid(row = 0, column = 2, sticky = 'nsew')\n",
    "\n",
    "TextoLargo.config(yscrollcommand  = scrolly.set)\n",
    "\n",
    "raiz.mainloop()"
   ]
  },
  {
   "cell_type": "markdown",
   "metadata": {},
   "source": [
    "### Botón"
   ]
  },
  {
   "cell_type": "code",
   "execution_count": 15,
   "metadata": {},
   "outputs": [],
   "source": [
    "raiz = Tk()\n",
    "raiz.resizable(1,1) \n",
    "\n",
    "miFrame = Frame(raiz, width = '600', height = '300')\n",
    "miFrame.pack()\n",
    "\n",
    "info = StringVar()\n",
    "com = StringVar()\n",
    "\n",
    "cuadroTexto = Entry(miFrame, textvariable = info)\n",
    "cuadroTexto.grid(row = 0, column = 1)\n",
    "cuadroTexto.config(fg = 'red', justify = 'right')\n",
    "\n",
    "nombreLabel = Label(miFrame, text = 'Producto: ').grid(row = 0, column = 0, sticky = 'e', pady = 10)#, padx = 30)\n",
    "\n",
    "TextoLargo = Text(miFrame, width = 20, height = 8)\n",
    "TextoLargo.grid(row = 1, column = 1, sticky = 'e', padx = 10, pady = 10)\n",
    "\n",
    "TextoLargoLabel = Label(miFrame, text = 'Comentarios').grid(row = 1, column = 0, sticky = 'e', pady = 10)\n",
    "\n",
    "scrolly = Scrollbar(miFrame, command = TextoLargo.yview)\n",
    "scrolly.grid(row = 1, column = 2, sticky = 'nsew')\n",
    "\n",
    "TextoLargo.config(yscrollcommand  = scrolly.set)\n",
    "\n",
    "def codigoBoton():\n",
    "    TextoLargo.insert(END,['Perro \\t'])\n",
    "    \n",
    "def codigoBoton2():\n",
    "    TextoLargo.insert(INSERT,[info.get()])\n",
    "\n",
    "boton_mas = Button(raiz, text = '+', command = codigoBoton2)\n",
    "boton_mas.pack()\n",
    "\n",
    "boton_menos = Button(raiz, text = '-', command = codigoBoton)\n",
    "boton_menos.pack()\n",
    "\n",
    "raiz.mainloop()"
   ]
  },
  {
   "cell_type": "code",
   "execution_count": 24,
   "metadata": {},
   "outputs": [
    {
     "name": "stdout",
     "output_type": "stream",
     "text": [
      "dsdsa\n"
     ]
    },
    {
     "ename": "TclError",
     "evalue": "can't invoke \"entry\" command: application has been destroyed",
     "output_type": "error",
     "traceback": [
      "\u001b[0;31m---------------------------------------------------------------------------\u001b[0m",
      "\u001b[0;31mTclError\u001b[0m                                  Traceback (most recent call last)",
      "\u001b[0;32m<ipython-input-24-074aeccdb80f>\u001b[0m in \u001b[0;36m<module>\u001b[0;34m\u001b[0m\n\u001b[1;32m     14\u001b[0m \u001b[0mmainloop\u001b[0m\u001b[0;34m(\u001b[0m\u001b[0;34m)\u001b[0m\u001b[0;34m\u001b[0m\u001b[0;34m\u001b[0m\u001b[0m\n\u001b[1;32m     15\u001b[0m \u001b[0;34m\u001b[0m\u001b[0m\n\u001b[0;32m---> 16\u001b[0;31m \u001b[0me\u001b[0m \u001b[0;34m=\u001b[0m \u001b[0mEntry\u001b[0m\u001b[0;34m(\u001b[0m\u001b[0mmaster\u001b[0m\u001b[0;34m,\u001b[0m \u001b[0mwidth\u001b[0m\u001b[0;34m=\u001b[0m\u001b[0;36m50\u001b[0m\u001b[0;34m)\u001b[0m\u001b[0;34m\u001b[0m\u001b[0;34m\u001b[0m\u001b[0m\n\u001b[0m\u001b[1;32m     17\u001b[0m \u001b[0me\u001b[0m\u001b[0;34m.\u001b[0m\u001b[0mpack\u001b[0m\u001b[0;34m(\u001b[0m\u001b[0;34m)\u001b[0m\u001b[0;34m\u001b[0m\u001b[0;34m\u001b[0m\u001b[0m\n\u001b[1;32m     18\u001b[0m \u001b[0;34m\u001b[0m\u001b[0m\n",
      "\u001b[0;32m~/anaconda3/lib/python3.7/tkinter/__init__.py\u001b[0m in \u001b[0;36m__init__\u001b[0;34m(self, master, cnf, **kw)\u001b[0m\n\u001b[1;32m   2674\u001b[0m         \u001b[0mtextvariable\u001b[0m\u001b[0;34m,\u001b[0m \u001b[0mvalidate\u001b[0m\u001b[0;34m,\u001b[0m \u001b[0mvalidatecommand\u001b[0m\u001b[0;34m,\u001b[0m \u001b[0mvcmd\u001b[0m\u001b[0;34m,\u001b[0m \u001b[0mwidth\u001b[0m\u001b[0;34m,\u001b[0m\u001b[0;34m\u001b[0m\u001b[0;34m\u001b[0m\u001b[0m\n\u001b[1;32m   2675\u001b[0m         xscrollcommand.\"\"\"\n\u001b[0;32m-> 2676\u001b[0;31m         \u001b[0mWidget\u001b[0m\u001b[0;34m.\u001b[0m\u001b[0m__init__\u001b[0m\u001b[0;34m(\u001b[0m\u001b[0mself\u001b[0m\u001b[0;34m,\u001b[0m \u001b[0mmaster\u001b[0m\u001b[0;34m,\u001b[0m \u001b[0;34m'entry'\u001b[0m\u001b[0;34m,\u001b[0m \u001b[0mcnf\u001b[0m\u001b[0;34m,\u001b[0m \u001b[0mkw\u001b[0m\u001b[0;34m)\u001b[0m\u001b[0;34m\u001b[0m\u001b[0;34m\u001b[0m\u001b[0m\n\u001b[0m\u001b[1;32m   2677\u001b[0m     \u001b[0;32mdef\u001b[0m \u001b[0mdelete\u001b[0m\u001b[0;34m(\u001b[0m\u001b[0mself\u001b[0m\u001b[0;34m,\u001b[0m \u001b[0mfirst\u001b[0m\u001b[0;34m,\u001b[0m \u001b[0mlast\u001b[0m\u001b[0;34m=\u001b[0m\u001b[0;32mNone\u001b[0m\u001b[0;34m)\u001b[0m\u001b[0;34m:\u001b[0m\u001b[0;34m\u001b[0m\u001b[0;34m\u001b[0m\u001b[0m\n\u001b[1;32m   2678\u001b[0m         \u001b[0;34m\"\"\"Delete text from FIRST to LAST (not included).\"\"\"\u001b[0m\u001b[0;34m\u001b[0m\u001b[0;34m\u001b[0m\u001b[0m\n",
      "\u001b[0;32m~/anaconda3/lib/python3.7/tkinter/__init__.py\u001b[0m in \u001b[0;36m__init__\u001b[0;34m(self, master, widgetName, cnf, kw, extra)\u001b[0m\n\u001b[1;32m   2297\u001b[0m             \u001b[0;32mdel\u001b[0m \u001b[0mcnf\u001b[0m\u001b[0;34m[\u001b[0m\u001b[0mk\u001b[0m\u001b[0;34m]\u001b[0m\u001b[0;34m\u001b[0m\u001b[0;34m\u001b[0m\u001b[0m\n\u001b[1;32m   2298\u001b[0m         self.tk.call(\n\u001b[0;32m-> 2299\u001b[0;31m             (widgetName, self._w) + extra + self._options(cnf))\n\u001b[0m\u001b[1;32m   2300\u001b[0m         \u001b[0;32mfor\u001b[0m \u001b[0mk\u001b[0m\u001b[0;34m,\u001b[0m \u001b[0mv\u001b[0m \u001b[0;32min\u001b[0m \u001b[0mclasses\u001b[0m\u001b[0;34m:\u001b[0m\u001b[0;34m\u001b[0m\u001b[0;34m\u001b[0m\u001b[0m\n\u001b[1;32m   2301\u001b[0m             \u001b[0mk\u001b[0m\u001b[0;34m.\u001b[0m\u001b[0mconfigure\u001b[0m\u001b[0;34m(\u001b[0m\u001b[0mself\u001b[0m\u001b[0;34m,\u001b[0m \u001b[0mv\u001b[0m\u001b[0;34m)\u001b[0m\u001b[0;34m\u001b[0m\u001b[0;34m\u001b[0m\u001b[0m\n",
      "\u001b[0;31mTclError\u001b[0m: can't invoke \"entry\" command: application has been destroyed"
     ]
    }
   ],
   "source": [
    "master = Tk()\n",
    "\n",
    "e = Entry(master)\n",
    "e.pack()\n",
    "\n",
    "e.focus_set()\n",
    "\n",
    "def callback():\n",
    "    print (e.get())\n",
    "\n",
    "b = Button(master, text=\"get\", width=10, command=callback)\n",
    "b.pack()\n",
    "\n",
    "mainloop()\n",
    "\n",
    "e = Entry(master, width=50)\n",
    "e.pack()\n",
    "\n",
    "text = e.get()\n",
    "\n",
    "def makeentry(parent, caption, width=None, **options):\n",
    "    Label(parent, text=caption).pack(side=LEFT)\n",
    "    entry = Entry(parent, **options)\n",
    "    if width:\n",
    "        entry.config(width=width)\n",
    "    entry.pack(side=LEFT)\n",
    "    return entry\n",
    "\n",
    "user = makeentry(parent, \"User name:\", 10)\n",
    "password = makeentry(parent, \"Password:\", 10, show=\"*\")\n",
    "\n",
    "content = StringVar()\n",
    "entry = Entry(parent, text=caption, textvariable=content)\n",
    "\n",
    "text = content.get()\n",
    "content.set(text)"
   ]
  },
  {
   "cell_type": "markdown",
   "metadata": {},
   "source": [
    "### Ejemplo 'Hola mundo'"
   ]
  },
  {
   "cell_type": "code",
   "execution_count": 16,
   "metadata": {},
   "outputs": [],
   "source": [
    "import tkinter as tk\n",
    "\n",
    "class Application(tk.Frame):\n",
    "    def __init__(self, master=None):\n",
    "        super().__init__(master)\n",
    "        self.master = master\n",
    "        self.pack()\n",
    "        self.create_widgets()\n",
    "\n",
    "    def create_widgets(self):\n",
    "        self.hi_there = tk.Button(self)\n",
    "        self.hi_there[\"text\"] = \"Hello World\\n(click me)\"\n",
    "        self.hi_there[\"command\"] = self.say_hi\n",
    "        self.hi_there.pack(side=\"top\")\n",
    "\n",
    "        self.quit = tk.Button(self, text=\"QUIT\", fg=\"red\",\n",
    "                              command=self.master.destroy)\n",
    "        self.quit.pack(side=\"bottom\")\n",
    "\n",
    "    def say_hi(self):\n",
    "        print(\"hi there, everyone!\")\n",
    "\n",
    "root = tk.Tk()\n",
    "app = Application(master=root)\n",
    "app.mainloop()"
   ]
  },
  {
   "cell_type": "code",
   "execution_count": 141,
   "metadata": {},
   "outputs": [
    {
     "ename": "TclError",
     "evalue": "bad fill style \"b\": must be none, x, y, or both",
     "output_type": "error",
     "traceback": [
      "\u001b[0;31m---------------------------------------------------------------------------\u001b[0m",
      "\u001b[0;31mTclError\u001b[0m                                  Traceback (most recent call last)",
      "\u001b[0;32m<ipython-input-141-4315bf0fa3bc>\u001b[0m in \u001b[0;36m<module>\u001b[0;34m\u001b[0m\n\u001b[1;32m     11\u001b[0m \u001b[0minp\u001b[0m \u001b[0;34m=\u001b[0m \u001b[0mtk\u001b[0m\u001b[0;34m.\u001b[0m\u001b[0mEntry\u001b[0m\u001b[0;34m(\u001b[0m\u001b[0mm\u001b[0m\u001b[0;34m)\u001b[0m\u001b[0;34m\u001b[0m\u001b[0;34m\u001b[0m\u001b[0m\n\u001b[1;32m     12\u001b[0m \u001b[0minp\u001b[0m\u001b[0;34m.\u001b[0m\u001b[0mbind\u001b[0m\u001b[0;34m(\u001b[0m\u001b[0;34m'<Return>'\u001b[0m\u001b[0;34m,\u001b[0m \u001b[0mshow\u001b[0m\u001b[0;34m)\u001b[0m \u001b[0;31m# binding the Return event with an handler\u001b[0m\u001b[0;34m\u001b[0m\u001b[0;34m\u001b[0m\u001b[0m\n\u001b[0;32m---> 13\u001b[0;31m \u001b[0minp\u001b[0m\u001b[0;34m.\u001b[0m\u001b[0mpack\u001b[0m\u001b[0;34m(\u001b[0m\u001b[0mfill\u001b[0m\u001b[0;34m=\u001b[0m\u001b[0;34m'b'\u001b[0m\u001b[0;34m,\u001b[0m \u001b[0mside\u001b[0m\u001b[0;34m=\u001b[0m\u001b[0;34m'left'\u001b[0m\u001b[0;34m)\u001b[0m\u001b[0;34m\u001b[0m\u001b[0;34m\u001b[0m\u001b[0m\n\u001b[0m\u001b[1;32m     14\u001b[0m \u001b[0;34m\u001b[0m\u001b[0m\n\u001b[1;32m     15\u001b[0m \u001b[0mok\u001b[0m \u001b[0;34m=\u001b[0m \u001b[0mtk\u001b[0m\u001b[0;34m.\u001b[0m\u001b[0mButton\u001b[0m\u001b[0;34m(\u001b[0m\u001b[0mm\u001b[0m\u001b[0;34m,\u001b[0m \u001b[0mtext\u001b[0m\u001b[0;34m=\u001b[0m\u001b[0;34m'GO'\u001b[0m\u001b[0;34m,\u001b[0m \u001b[0mcommand\u001b[0m\u001b[0;34m=\u001b[0m\u001b[0mshow\u001b[0m\u001b[0;34m)\u001b[0m\u001b[0;34m\u001b[0m\u001b[0;34m\u001b[0m\u001b[0m\n",
      "\u001b[0;32m~/anaconda3/lib/python3.7/tkinter/__init__.py\u001b[0m in \u001b[0;36mpack_configure\u001b[0;34m(self, cnf, **kw)\u001b[0m\n\u001b[1;32m   2141\u001b[0m         self.tk.call(\n\u001b[1;32m   2142\u001b[0m               \u001b[0;34m(\u001b[0m\u001b[0;34m'pack'\u001b[0m\u001b[0;34m,\u001b[0m \u001b[0;34m'configure'\u001b[0m\u001b[0;34m,\u001b[0m \u001b[0mself\u001b[0m\u001b[0;34m.\u001b[0m\u001b[0m_w\u001b[0m\u001b[0;34m)\u001b[0m\u001b[0;34m\u001b[0m\u001b[0;34m\u001b[0m\u001b[0m\n\u001b[0;32m-> 2143\u001b[0;31m               + self._options(cnf, kw))\n\u001b[0m\u001b[1;32m   2144\u001b[0m     \u001b[0mpack\u001b[0m \u001b[0;34m=\u001b[0m \u001b[0mconfigure\u001b[0m \u001b[0;34m=\u001b[0m \u001b[0mconfig\u001b[0m \u001b[0;34m=\u001b[0m \u001b[0mpack_configure\u001b[0m\u001b[0;34m\u001b[0m\u001b[0;34m\u001b[0m\u001b[0m\n\u001b[1;32m   2145\u001b[0m     \u001b[0;32mdef\u001b[0m \u001b[0mpack_forget\u001b[0m\u001b[0;34m(\u001b[0m\u001b[0mself\u001b[0m\u001b[0;34m)\u001b[0m\u001b[0;34m:\u001b[0m\u001b[0;34m\u001b[0m\u001b[0;34m\u001b[0m\u001b[0m\n",
      "\u001b[0;31mTclError\u001b[0m: bad fill style \"b\": must be none, x, y, or both"
     ]
    }
   ],
   "source": [
    "import tkinter.messagebox as msg\n",
    "\n",
    "def show(event=None): # handler\n",
    "    msg.showinfo('name', 'Your name is ' + inp.get())\n",
    "\n",
    "m = tk.Tk()\n",
    "\n",
    "prompt = tk.Label(m, text='Name: ')\n",
    "prompt.pack(fill='x', side='left')\n",
    "\n",
    "inp = tk.Entry(m)\n",
    "inp.bind('<Return>', show) # binding the Return event with an handler\n",
    "inp.pack(fill='x', side='left')\n",
    "\n",
    "ok = tk.Button(m, text='GO', command=show)\n",
    "ok.pack(fill='x', side='left')\n",
    "\n",
    "m.mainloop()"
   ]
  },
  {
   "cell_type": "code",
   "execution_count": null,
   "metadata": {},
   "outputs": [],
   "source": []
  }
 ],
 "metadata": {
  "kernelspec": {
   "display_name": "Python 3",
   "language": "python",
   "name": "python3"
  },
  "language_info": {
   "codemirror_mode": {
    "name": "ipython",
    "version": 3
   },
   "file_extension": ".py",
   "mimetype": "text/x-python",
   "name": "python",
   "nbconvert_exporter": "python",
   "pygments_lexer": "ipython3",
   "version": "3.7.3"
  }
 },
 "nbformat": 4,
 "nbformat_minor": 2
}
