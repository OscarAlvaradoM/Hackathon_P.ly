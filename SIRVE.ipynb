{
 "cells": [
  {
   "cell_type": "code",
   "execution_count": 116,
   "metadata": {},
   "outputs": [],
   "source": [
    "from sklearn import datasets\n",
    "from sklearn.preprocessing import PolynomialFeatures\n",
    "from sklearn import linear_model\n",
    "import pandas as pd\n",
    "import numpy as np\n",
    "path = \"Datasets/\"\n",
    "carpinteria = pd.read_csv(path+\"carpinteria.csv\").apply(pd.to_numeric, errors='coerce')\n",
    "constructora = pd.read_csv(path+\"Constructoras.csv\").apply(pd.to_numeric, errors='coerce')\n",
    "sastreria = pd.read_csv(path+\"sastreria.csv\").apply(pd.to_numeric, errors='coerce')\n",
    "mecanica = pd.read_csv(path+\"mecanica.csv\").apply(pd.to_numeric, errors='coerce')\n",
    "abogados = pd.read_csv(path+\"Abogados.csv\").apply(pd.to_numeric, errors='coerce')\n",
    "servicios_medicos = pd.read_csv(path+\"ServiciosMedicos.csv\").apply(pd.to_numeric, errors='coerce')\n",
    "X, y = datasets.load_iris(return_X_y=True)\n",
    "behavior_months = [1.3,0.7,0.8,0.95,1.1,1,1,1.1,0.93,1,1.25,1.55]"
   ]
  },
  {
   "cell_type": "code",
   "execution_count": 117,
   "metadata": {},
   "outputs": [],
   "source": [
    "carpinteria.columns = carpinteria.iloc[1,:]"
   ]
  },
  {
   "cell_type": "code",
   "execution_count": 118,
   "metadata": {},
   "outputs": [],
   "source": [
    "carpinteria = carpinteria.iloc[2:,1:]\n"
   ]
  },
  {
   "cell_type": "code",
   "execution_count": 181,
   "metadata": {},
   "outputs": [],
   "source": [
    "def normalizar(M):\n",
    "    m,n = M.shape\n",
    "    M2 = np.zeros((m,n))\n",
    "    \n",
    "    sumas = []\n",
    "    \n",
    "    for i in range(m):\n",
    "        sumas.append(sum([M[i,j] for j in range(n) if M[i,j] > 0]))\n",
    "        \n",
    "    for i in range(m):\n",
    "        for j in range(n):\n",
    "            M2[i,j] = M[i,j]/sumas[i]\n",
    "            \n",
    "    return M2\n",
    "def promedio_meses(m,behavior_months):\n",
    "    return np.array([behavior_months])*np.array([normalizar(m.values).mean(axis=0)]).T"
   ]
  },
  {
   "cell_type": "code",
   "execution_count": 120,
   "metadata": {},
   "outputs": [
    {
     "data": {
      "text/html": [
       "<div>\n",
       "<style scoped>\n",
       "    .dataframe tbody tr th:only-of-type {\n",
       "        vertical-align: middle;\n",
       "    }\n",
       "\n",
       "    .dataframe tbody tr th {\n",
       "        vertical-align: top;\n",
       "    }\n",
       "\n",
       "    .dataframe thead th {\n",
       "        text-align: right;\n",
       "    }\n",
       "</style>\n",
       "<table border=\"1\" class=\"dataframe\">\n",
       "  <thead>\n",
       "    <tr style=\"text-align: right;\">\n",
       "      <th>1</th>\n",
       "      <th>337.0</th>\n",
       "      <th>321.0</th>\n",
       "      <th>113.0</th>\n",
       "      <th>313.0</th>\n",
       "      <th>541.0</th>\n",
       "    </tr>\n",
       "  </thead>\n",
       "  <tbody>\n",
       "    <tr>\n",
       "      <td>2</td>\n",
       "      <td>24000.0</td>\n",
       "      <td>299.0</td>\n",
       "      <td>-5000.0</td>\n",
       "      <td>-300.0</td>\n",
       "      <td>-5000.0</td>\n",
       "    </tr>\n",
       "    <tr>\n",
       "      <td>3</td>\n",
       "      <td>13990.0</td>\n",
       "      <td>1200.0</td>\n",
       "      <td>-2000.0</td>\n",
       "      <td>-300.0</td>\n",
       "      <td>-400.0</td>\n",
       "    </tr>\n",
       "    <tr>\n",
       "      <td>4</td>\n",
       "      <td>-3229.0</td>\n",
       "      <td>70400.0</td>\n",
       "      <td>-300.0</td>\n",
       "      <td>-400.0</td>\n",
       "      <td>-10000.0</td>\n",
       "    </tr>\n",
       "    <tr>\n",
       "      <td>5</td>\n",
       "      <td>12000.0</td>\n",
       "      <td>32019.0</td>\n",
       "      <td>0.0</td>\n",
       "      <td>-5000.0</td>\n",
       "      <td>-1200.0</td>\n",
       "    </tr>\n",
       "    <tr>\n",
       "      <td>6</td>\n",
       "      <td>4000.0</td>\n",
       "      <td>-290.0</td>\n",
       "      <td>-300.0</td>\n",
       "      <td>-4000.0</td>\n",
       "      <td>-399.0</td>\n",
       "    </tr>\n",
       "  </tbody>\n",
       "</table>\n",
       "</div>"
      ],
      "text/plain": [
       "1    337.0    321.0   113.0   313.0    541.0\n",
       "2  24000.0    299.0 -5000.0  -300.0  -5000.0\n",
       "3  13990.0   1200.0 -2000.0  -300.0   -400.0\n",
       "4  -3229.0  70400.0  -300.0  -400.0 -10000.0\n",
       "5  12000.0  32019.0     0.0 -5000.0  -1200.0\n",
       "6   4000.0   -290.0  -300.0 -4000.0   -399.0"
      ]
     },
     "execution_count": 120,
     "metadata": {},
     "output_type": "execute_result"
    }
   ],
   "source": [
    "carpinteria"
   ]
  },
  {
   "cell_type": "code",
   "execution_count": 121,
   "metadata": {},
   "outputs": [],
   "source": [
    "constructora = constructora.iloc[:,1:6]"
   ]
  },
  {
   "cell_type": "code",
   "execution_count": 122,
   "metadata": {},
   "outputs": [
    {
     "data": {
      "text/html": [
       "<div>\n",
       "<style scoped>\n",
       "    .dataframe tbody tr th:only-of-type {\n",
       "        vertical-align: middle;\n",
       "    }\n",
       "\n",
       "    .dataframe tbody tr th {\n",
       "        vertical-align: top;\n",
       "    }\n",
       "\n",
       "    .dataframe thead th {\n",
       "        text-align: right;\n",
       "    }\n",
       "</style>\n",
       "<table border=\"1\" class=\"dataframe\">\n",
       "  <thead>\n",
       "    <tr style=\"text-align: right;\">\n",
       "      <th></th>\n",
       "      <th>237</th>\n",
       "      <th>515</th>\n",
       "      <th>524</th>\n",
       "      <th>484</th>\n",
       "      <th>541</th>\n",
       "    </tr>\n",
       "  </thead>\n",
       "  <tbody>\n",
       "    <tr>\n",
       "      <td>0</td>\n",
       "      <td>45000</td>\n",
       "      <td>-46482</td>\n",
       "      <td>-32152</td>\n",
       "      <td>-31522</td>\n",
       "      <td>1352</td>\n",
       "    </tr>\n",
       "    <tr>\n",
       "      <td>1</td>\n",
       "      <td>81523</td>\n",
       "      <td>-45561</td>\n",
       "      <td>-351212</td>\n",
       "      <td>-313211</td>\n",
       "      <td>1542</td>\n",
       "    </tr>\n",
       "    <tr>\n",
       "      <td>2</td>\n",
       "      <td>354112</td>\n",
       "      <td>-322132</td>\n",
       "      <td>-32155</td>\n",
       "      <td>-31052</td>\n",
       "      <td>32155</td>\n",
       "    </tr>\n",
       "    <tr>\n",
       "      <td>3</td>\n",
       "      <td>65458</td>\n",
       "      <td>-31205</td>\n",
       "      <td>-4631</td>\n",
       "      <td>-6585</td>\n",
       "      <td>3512</td>\n",
       "    </tr>\n",
       "    <tr>\n",
       "      <td>4</td>\n",
       "      <td>31863</td>\n",
       "      <td>-3515</td>\n",
       "      <td>-20253</td>\n",
       "      <td>-35481</td>\n",
       "      <td>51694</td>\n",
       "    </tr>\n",
       "  </tbody>\n",
       "</table>\n",
       "</div>"
      ],
      "text/plain": [
       "      237     515     524     484    541\n",
       "0   45000  -46482  -32152  -31522   1352\n",
       "1   81523  -45561 -351212 -313211   1542\n",
       "2  354112 -322132  -32155  -31052  32155\n",
       "3   65458  -31205   -4631   -6585   3512\n",
       "4   31863   -3515  -20253  -35481  51694"
      ]
     },
     "execution_count": 122,
     "metadata": {},
     "output_type": "execute_result"
    }
   ],
   "source": [
    "constructora"
   ]
  },
  {
   "cell_type": "code",
   "execution_count": 123,
   "metadata": {},
   "outputs": [],
   "source": [
    "sastreria = sastreria.iloc[:,1:6]"
   ]
  },
  {
   "cell_type": "code",
   "execution_count": 124,
   "metadata": {},
   "outputs": [
    {
     "data": {
      "text/html": [
       "<div>\n",
       "<style scoped>\n",
       "    .dataframe tbody tr th:only-of-type {\n",
       "        vertical-align: middle;\n",
       "    }\n",
       "\n",
       "    .dataframe tbody tr th {\n",
       "        vertical-align: top;\n",
       "    }\n",
       "\n",
       "    .dataframe thead th {\n",
       "        text-align: right;\n",
       "    }\n",
       "</style>\n",
       "<table border=\"1\" class=\"dataframe\">\n",
       "  <thead>\n",
       "    <tr style=\"text-align: right;\">\n",
       "      <th></th>\n",
       "      <th>313</th>\n",
       "      <th>314</th>\n",
       "      <th>463</th>\n",
       "      <th>811</th>\n",
       "      <th>532</th>\n",
       "    </tr>\n",
       "  </thead>\n",
       "  <tbody>\n",
       "    <tr>\n",
       "      <td>0</td>\n",
       "      <td>8562</td>\n",
       "      <td>9854</td>\n",
       "      <td>251</td>\n",
       "      <td>-126</td>\n",
       "      <td>20</td>\n",
       "    </tr>\n",
       "    <tr>\n",
       "      <td>1</td>\n",
       "      <td>4159</td>\n",
       "      <td>6236</td>\n",
       "      <td>56</td>\n",
       "      <td>-459</td>\n",
       "      <td>-56</td>\n",
       "    </tr>\n",
       "    <tr>\n",
       "      <td>2</td>\n",
       "      <td>7963</td>\n",
       "      <td>4896</td>\n",
       "      <td>123</td>\n",
       "      <td>-1987</td>\n",
       "      <td>-89</td>\n",
       "    </tr>\n",
       "    <tr>\n",
       "      <td>3</td>\n",
       "      <td>5269</td>\n",
       "      <td>2367</td>\n",
       "      <td>-568</td>\n",
       "      <td>-136</td>\n",
       "      <td>-78</td>\n",
       "    </tr>\n",
       "    <tr>\n",
       "      <td>4</td>\n",
       "      <td>4896</td>\n",
       "      <td>1968</td>\n",
       "      <td>-987</td>\n",
       "      <td>-258</td>\n",
       "      <td>-32</td>\n",
       "    </tr>\n",
       "  </tbody>\n",
       "</table>\n",
       "</div>"
      ],
      "text/plain": [
       "    313   314  463   811  532\n",
       "0  8562  9854  251  -126   20\n",
       "1  4159  6236   56  -459  -56\n",
       "2  7963  4896  123 -1987  -89\n",
       "3  5269  2367 -568  -136  -78\n",
       "4  4896  1968 -987  -258  -32"
      ]
     },
     "execution_count": 124,
     "metadata": {},
     "output_type": "execute_result"
    }
   ],
   "source": [
    "sastreria"
   ]
  },
  {
   "cell_type": "code",
   "execution_count": 125,
   "metadata": {},
   "outputs": [],
   "source": [
    "mecanica = mecanica.iloc[:,1:6]"
   ]
  },
  {
   "cell_type": "code",
   "execution_count": 126,
   "metadata": {},
   "outputs": [
    {
     "data": {
      "text/html": [
       "<div>\n",
       "<style scoped>\n",
       "    .dataframe tbody tr th:only-of-type {\n",
       "        vertical-align: middle;\n",
       "    }\n",
       "\n",
       "    .dataframe tbody tr th {\n",
       "        vertical-align: top;\n",
       "    }\n",
       "\n",
       "    .dataframe thead th {\n",
       "        text-align: right;\n",
       "    }\n",
       "</style>\n",
       "<table border=\"1\" class=\"dataframe\">\n",
       "  <thead>\n",
       "    <tr style=\"text-align: right;\">\n",
       "      <th></th>\n",
       "      <th>811</th>\n",
       "      <th>468</th>\n",
       "      <th>524</th>\n",
       "      <th>812</th>\n",
       "      <th>519</th>\n",
       "    </tr>\n",
       "  </thead>\n",
       "  <tbody>\n",
       "    <tr>\n",
       "      <td>0</td>\n",
       "      <td>-8420</td>\n",
       "      <td>9658</td>\n",
       "      <td>-1250</td>\n",
       "      <td>-340</td>\n",
       "      <td>-50</td>\n",
       "    </tr>\n",
       "    <tr>\n",
       "      <td>1</td>\n",
       "      <td>-7518</td>\n",
       "      <td>11562</td>\n",
       "      <td>-1362</td>\n",
       "      <td>-260</td>\n",
       "      <td>-46</td>\n",
       "    </tr>\n",
       "    <tr>\n",
       "      <td>2</td>\n",
       "      <td>-3245</td>\n",
       "      <td>9351</td>\n",
       "      <td>-1450</td>\n",
       "      <td>-351</td>\n",
       "      <td>-82</td>\n",
       "    </tr>\n",
       "    <tr>\n",
       "      <td>3</td>\n",
       "      <td>-4689</td>\n",
       "      <td>13412</td>\n",
       "      <td>-1600</td>\n",
       "      <td>-251</td>\n",
       "      <td>-49</td>\n",
       "    </tr>\n",
       "    <tr>\n",
       "      <td>4</td>\n",
       "      <td>-8659</td>\n",
       "      <td>12058</td>\n",
       "      <td>-1200</td>\n",
       "      <td>-102</td>\n",
       "      <td>-88</td>\n",
       "    </tr>\n",
       "  </tbody>\n",
       "</table>\n",
       "</div>"
      ],
      "text/plain": [
       "    811    468   524  812  519\n",
       "0 -8420   9658 -1250 -340  -50\n",
       "1 -7518  11562 -1362 -260  -46\n",
       "2 -3245   9351 -1450 -351  -82\n",
       "3 -4689  13412 -1600 -251  -49\n",
       "4 -8659  12058 -1200 -102  -88"
      ]
     },
     "execution_count": 126,
     "metadata": {},
     "output_type": "execute_result"
    }
   ],
   "source": [
    "mecanica"
   ]
  },
  {
   "cell_type": "markdown",
   "metadata": {},
   "source": [
    "abogados"
   ]
  },
  {
   "cell_type": "code",
   "execution_count": 127,
   "metadata": {},
   "outputs": [],
   "source": [
    "abogados = abogados.iloc[:,1:6]"
   ]
  },
  {
   "cell_type": "code",
   "execution_count": 128,
   "metadata": {},
   "outputs": [
    {
     "data": {
      "text/html": [
       "<div>\n",
       "<style scoped>\n",
       "    .dataframe tbody tr th:only-of-type {\n",
       "        vertical-align: middle;\n",
       "    }\n",
       "\n",
       "    .dataframe tbody tr th {\n",
       "        vertical-align: top;\n",
       "    }\n",
       "\n",
       "    .dataframe thead th {\n",
       "        text-align: right;\n",
       "    }\n",
       "</style>\n",
       "<table border=\"1\" class=\"dataframe\">\n",
       "  <thead>\n",
       "    <tr style=\"text-align: right;\">\n",
       "      <th></th>\n",
       "      <th>531</th>\n",
       "      <th>541</th>\n",
       "      <th>551</th>\n",
       "      <th>561</th>\n",
       "      <th>931</th>\n",
       "    </tr>\n",
       "  </thead>\n",
       "  <tbody>\n",
       "    <tr>\n",
       "      <td>0</td>\n",
       "      <td>-15243</td>\n",
       "      <td>20352</td>\n",
       "      <td>-3451</td>\n",
       "      <td>3210</td>\n",
       "      <td>1321</td>\n",
       "    </tr>\n",
       "    <tr>\n",
       "      <td>1</td>\n",
       "      <td>-15345</td>\n",
       "      <td>32210</td>\n",
       "      <td>-25232</td>\n",
       "      <td>2152</td>\n",
       "      <td>3215</td>\n",
       "    </tr>\n",
       "    <tr>\n",
       "      <td>2</td>\n",
       "      <td>-16203</td>\n",
       "      <td>51502</td>\n",
       "      <td>-5411</td>\n",
       "      <td>5462</td>\n",
       "      <td>3522</td>\n",
       "    </tr>\n",
       "    <tr>\n",
       "      <td>3</td>\n",
       "      <td>-22150</td>\n",
       "      <td>32201</td>\n",
       "      <td>-3125</td>\n",
       "      <td>5132</td>\n",
       "      <td>2151</td>\n",
       "    </tr>\n",
       "    <tr>\n",
       "      <td>4</td>\n",
       "      <td>-32210</td>\n",
       "      <td>21220</td>\n",
       "      <td>-1352</td>\n",
       "      <td>5480</td>\n",
       "      <td>1232</td>\n",
       "    </tr>\n",
       "  </tbody>\n",
       "</table>\n",
       "</div>"
      ],
      "text/plain": [
       "     531    541    551   561   931\n",
       "0 -15243  20352  -3451  3210  1321\n",
       "1 -15345  32210 -25232  2152  3215\n",
       "2 -16203  51502  -5411  5462  3522\n",
       "3 -22150  32201  -3125  5132  2151\n",
       "4 -32210  21220  -1352  5480  1232"
      ]
     },
     "execution_count": 128,
     "metadata": {},
     "output_type": "execute_result"
    }
   ],
   "source": [
    "abogados"
   ]
  },
  {
   "cell_type": "code",
   "execution_count": 129,
   "metadata": {},
   "outputs": [],
   "source": [
    "servicios_medicos = servicios_medicos.iloc[:,1:6]"
   ]
  },
  {
   "cell_type": "code",
   "execution_count": 130,
   "metadata": {},
   "outputs": [
    {
     "data": {
      "text/html": [
       "<div>\n",
       "<style scoped>\n",
       "    .dataframe tbody tr th:only-of-type {\n",
       "        vertical-align: middle;\n",
       "    }\n",
       "\n",
       "    .dataframe tbody tr th {\n",
       "        vertical-align: top;\n",
       "    }\n",
       "\n",
       "    .dataframe thead th {\n",
       "        text-align: right;\n",
       "    }\n",
       "</style>\n",
       "<table border=\"1\" class=\"dataframe\">\n",
       "  <thead>\n",
       "    <tr style=\"text-align: right;\">\n",
       "      <th></th>\n",
       "      <th>621</th>\n",
       "      <th>531</th>\n",
       "      <th>541</th>\n",
       "      <th>811</th>\n",
       "      <th>333</th>\n",
       "    </tr>\n",
       "  </thead>\n",
       "  <tbody>\n",
       "    <tr>\n",
       "      <td>0</td>\n",
       "      <td>247080</td>\n",
       "      <td>-92383</td>\n",
       "      <td>-2000</td>\n",
       "      <td>-3276</td>\n",
       "      <td>-4718</td>\n",
       "    </tr>\n",
       "    <tr>\n",
       "      <td>1</td>\n",
       "      <td>319820</td>\n",
       "      <td>-72339</td>\n",
       "      <td>-1233</td>\n",
       "      <td>-5783</td>\n",
       "      <td>-2455</td>\n",
       "    </tr>\n",
       "    <tr>\n",
       "      <td>2</td>\n",
       "      <td>421228</td>\n",
       "      <td>-91282</td>\n",
       "      <td>-3829</td>\n",
       "      <td>-6372</td>\n",
       "      <td>-3498</td>\n",
       "    </tr>\n",
       "    <tr>\n",
       "      <td>3</td>\n",
       "      <td>123345</td>\n",
       "      <td>-45363</td>\n",
       "      <td>-3384</td>\n",
       "      <td>-4433</td>\n",
       "      <td>-1223</td>\n",
       "    </tr>\n",
       "    <tr>\n",
       "      <td>4</td>\n",
       "      <td>548343</td>\n",
       "      <td>-150000</td>\n",
       "      <td>-5348</td>\n",
       "      <td>-8272</td>\n",
       "      <td>-9233</td>\n",
       "    </tr>\n",
       "  </tbody>\n",
       "</table>\n",
       "</div>"
      ],
      "text/plain": [
       "      621     531   541   811   333\n",
       "0  247080  -92383 -2000 -3276 -4718\n",
       "1  319820  -72339 -1233 -5783 -2455\n",
       "2  421228  -91282 -3829 -6372 -3498\n",
       "3  123345  -45363 -3384 -4433 -1223\n",
       "4  548343 -150000 -5348 -8272 -9233"
      ]
     },
     "execution_count": 130,
     "metadata": {},
     "output_type": "execute_result"
    }
   ],
   "source": [
    "servicios_medicos"
   ]
  },
  {
   "cell_type": "code",
   "execution_count": 131,
   "metadata": {},
   "outputs": [],
   "source": [
    "frames = [carpinteria, constructora, sastreria, mecanica, abogados, servicios_medicos]"
   ]
  },
  {
   "cell_type": "code",
   "execution_count": 132,
   "metadata": {},
   "outputs": [],
   "source": [
    "matriz = pd.concat(frames)"
   ]
  },
  {
   "cell_type": "code",
   "execution_count": 133,
   "metadata": {},
   "outputs": [],
   "source": [
    "matriz = matriz.fillna(0)"
   ]
  },
  {
   "cell_type": "code",
   "execution_count": 134,
   "metadata": {},
   "outputs": [],
   "source": [
    "clases = {0:'carpinteria',\n",
    "         1:'constructora',\n",
    "         2:'sastreria',\n",
    "         3:'mecanica',\n",
    "         4:'abogados',\n",
    "         5:'servicios médicos'}"
   ]
  },
  {
   "cell_type": "code",
   "execution_count": 135,
   "metadata": {},
   "outputs": [],
   "source": [
    "import numpy as np\n",
    "import matplotlib.pyplot as plt\n",
    "\n",
    "from sklearn.svm import LinearSVC \n",
    "from sklearn.model_selection import train_test_split"
   ]
  },
  {
   "cell_type": "code",
   "execution_count": 136,
   "metadata": {},
   "outputs": [],
   "source": [
    "data = matriz.values\n",
    "objetivos = [[i]*5 for i in range(6)]\n",
    "objetivos = np.vstack(objetivos).reshape(-1,1)\n",
    "data_train, data_test, obj_train, obj_test = train_test_split(data,objetivos,test_size=0.2)"
   ]
  },
  {
   "cell_type": "code",
   "execution_count": 137,
   "metadata": {},
   "outputs": [],
   "source": [
    "clf = LinearSVC().fit(data_train,obj_train.ravel())"
   ]
  },
  {
   "cell_type": "code",
   "execution_count": 138,
   "metadata": {},
   "outputs": [
    {
     "data": {
      "text/plain": [
       "1.0"
      ]
     },
     "execution_count": 138,
     "metadata": {},
     "output_type": "execute_result"
    }
   ],
   "source": [
    "clf.score(data_test,obj_test)"
   ]
  },
  {
   "cell_type": "code",
   "execution_count": 187,
   "metadata": {},
   "outputs": [],
   "source": [
    "modelo = []\n",
    "meses=[1,2,3,4,5,6,7,8,9,10,11,12]\n",
    "carpinteria_reg = promedio_meses(carpinteria,behavior_months)\n",
    "constructora_reg = promedio_meses(constructora,behavior_months)\n",
    "mecanica_reg = promedio_meses(mecanica,behavior_months)\n",
    "abogados_reg = promedio_meses(abogados,behavior_months)\n",
    "sastreria_reg = promedio_meses(sastreria,behavior_months)\n",
    "servicios_medicos_reg = promedio_meses(servicios_medicos,behavior_months)\n",
    "#poly_reg = PolynomialFeatures(degree=6)\n",
    "#X_poly = poly_reg.fit_transform()\n",
    "#pol_reg = LinearRegression()\n",
    "#pol_reg.fit(X_poly, y)"
   ]
  },
  {
   "cell_type": "code",
   "execution_count": 178,
   "metadata": {},
   "outputs": [],
   "source": []
  },
  {
   "cell_type": "code",
   "execution_count": 188,
   "metadata": {},
   "outputs": [],
   "source": [
    "aaaa=promedio_meses(carpinteria,behavior_months)"
   ]
  },
  {
   "cell_type": "code",
   "execution_count": 189,
   "metadata": {},
   "outputs": [
    {
     "data": {
      "text/plain": [
       "array([[ 0.81521406,  0.43896142,  0.50167019,  0.59573335,  0.68979651,\n",
       "         0.62708774,  0.62708774,  0.68979651,  0.5831916 ,  0.62708774,\n",
       "         0.78385968,  0.971986  ],\n",
       "       [ 0.45401065,  0.24446727,  0.27939117,  0.33177702,  0.38416286,\n",
       "         0.34923896,  0.34923896,  0.38416286,  0.32479224,  0.34923896,\n",
       "         0.4365487 ,  0.54132039],\n",
       "       [-0.10834115, -0.05833754, -0.06667147, -0.07917238, -0.09167328,\n",
       "        -0.08333934, -0.08333934, -0.09167328, -0.07750559, -0.08333934,\n",
       "        -0.10417418, -0.12917598],\n",
       "       [-0.29935494, -0.16119112, -0.18421842, -0.21875938, -0.25330033,\n",
       "        -0.23027303, -0.23027303, -0.25330033, -0.21415392, -0.23027303,\n",
       "        -0.28784129, -0.3569232 ],\n",
       "       [-0.13030142, -0.0701623 , -0.08018549, -0.09522027, -0.11025505,\n",
       "        -0.10023186, -0.10023186, -0.11025505, -0.09321563, -0.10023186,\n",
       "        -0.12528983, -0.15535939]])"
      ]
     },
     "execution_count": 189,
     "metadata": {},
     "output_type": "execute_result"
    }
   ],
   "source": [
    "aaaa"
   ]
  },
  {
   "cell_type": "code",
   "execution_count": null,
   "metadata": {},
   "outputs": [],
   "source": []
  },
  {
   "cell_type": "code",
   "execution_count": null,
   "metadata": {},
   "outputs": [],
   "source": []
  },
  {
   "cell_type": "code",
   "execution_count": null,
   "metadata": {},
   "outputs": [],
   "source": []
  },
  {
   "cell_type": "code",
   "execution_count": null,
   "metadata": {},
   "outputs": [],
   "source": []
  },
  {
   "cell_type": "code",
   "execution_count": null,
   "metadata": {},
   "outputs": [],
   "source": []
  },
  {
   "cell_type": "code",
   "execution_count": null,
   "metadata": {},
   "outputs": [],
   "source": []
  },
  {
   "cell_type": "code",
   "execution_count": null,
   "metadata": {},
   "outputs": [],
   "source": []
  }
 ],
 "metadata": {
  "kernelspec": {
   "display_name": "Python 3",
   "language": "python",
   "name": "python3"
  },
  "language_info": {
   "codemirror_mode": {
    "name": "ipython",
    "version": 3
   },
   "file_extension": ".py",
   "mimetype": "text/x-python",
   "name": "python",
   "nbconvert_exporter": "python",
   "pygments_lexer": "ipython3",
   "version": "3.7.4"
  }
 },
 "nbformat": 4,
 "nbformat_minor": 2
}
