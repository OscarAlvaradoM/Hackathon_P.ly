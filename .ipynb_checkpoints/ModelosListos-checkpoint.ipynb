{
 "cells": [
  {
   "cell_type": "code",
   "execution_count": 4,
   "metadata": {},
   "outputs": [],
   "source": [
    "from sklearn.linear_model import LogisticRegression\n",
    "import pandas as pd\n",
    "import numpy as np\n",
    "import random\n",
    "from sklearn import preprocessing\n",
    "path = \"Datasets/\"\n",
    "datos_BBVA = pd.read_csv('BBVA/datosbbva.csv')\n",
    "datos_BBVA.dropna(axis = 0, how = 'any', inplace = True) \n",
    "carpinteria = pd.read_csv(path+\"carpinteria.csv\").apply(pd.to_numeric, errors='coerce')\n",
    "constructora = pd.read_csv(path+\"Constructoras.csv\").apply(pd.to_numeric, errors='coerce')\n",
    "sastreria = pd.read_csv(path+\"sastreria.csv\").apply(pd.to_numeric, errors='coerce')\n",
    "mecanica = pd.read_csv(path+\"mecanica.csv\").apply(pd.to_numeric, errors='coerce')\n",
    "abogados = pd.read_csv(path+\"Abogados.csv\").apply(pd.to_numeric, errors='coerce')\n",
    "servicios_medicos = pd.read_csv(path+\"ServiciosMedicos.csv\").apply(pd.to_numeric, errors='coerce')\n",
    "behavior_months = [1.3,0.5,0.8,0.95,1.1,.8,.8,1.02,0.93,1,1.25,1.55]"
   ]
  },
  {
   "cell_type": "code",
   "execution_count": 5,
   "metadata": {},
   "outputs": [],
   "source": [
    "carpinteria = order_index(carpinteria.iloc[:,1:6])"
   ]
  },
  {
   "cell_type": "code",
   "execution_count": 6,
   "metadata": {},
   "outputs": [],
   "source": [
    "def order_index(M):\n",
    "    c = M.copy()\n",
    "    return c.reindex(sorted(c.columns), axis=1)\n",
    "def normalizar(M):\n",
    "    m,n = M.shape\n",
    "    M2 = np.zeros((m,n))\n",
    "    \n",
    "    sumas = []\n",
    "    \n",
    "    for i in range(m):\n",
    "        sumas.append(sum([M[i,j] for j in range(n) if M[i,j] > 0]))\n",
    "        \n",
    "    for i in range(m):\n",
    "        for j in range(n):\n",
    "            M2[i,j] = M[i,j]/sumas[i]\n",
    "            \n",
    "    return M2\n",
    "def promedio_meses(m,behavior_months):\n",
    "    return (np.array(m.columns),np.array([behavior_months])*np.array([normalizar(m.values).mean(axis=0)]).T)\n",
    "def homogen_datos(datos):\n",
    "    datos = datos.drop(columns=\"OFERTA CRÉDITO EN 2018\")\n",
    "    datos = datos.drop(columns=\"TDCN\")\n",
    "    datos = datos.drop(columns=\"CLIENTE\")\n",
    "    datos = datos.drop(columns=\"CD_GIRO (BANXICO)\")\n",
    "    datos['VENTAS POR TPV'] = pd.to_numeric(datos['VENTAS POR TPV'],errors='coerce')\n",
    "    \n",
    "    creditos_aprobados = datos[\"FH_FORMA CREDITO 2018\"]\n",
    "    creditos_otorgados = datos[\"Créditos simples otorgados desde 2018\"]\n",
    "    \n",
    "    rs1 = np.linspace(30,50,len(creditos_aprobados))\n",
    "    rs2 = [np.random.rand() for i in range(len(creditos_aprobados))]\n",
    "    \n",
    "    datos[\"Créditos simples otorgados desde 2018\"] = datos[\"Créditos simples otorgados desde 2018\"].astype(float)\n",
    "        \n",
    "    for i in range(len(creditos_aprobados)):\n",
    "        \n",
    "        if creditos_aprobados[i] == \"#N/D\":\n",
    "            datos.at[i, \"FH_FORMA CREDITO 2018\"] = 0\n",
    "        elif creditos_aprobados[i] != \"#N/D\":\n",
    "            datos.at[i, \"FH_FORMA CREDITO 2018\"] = 1\n",
    "            \n",
    "        if creditos_otorgados[i] == 0:\n",
    "            p = random.uniform(0.3, 0.5)\n",
    "            datos.at[i, \"Créditos simples otorgados desde 2018\"] = p\n",
    "            \n",
    "        elif creditos_otorgados[i] != 0:\n",
    "            p = random.uniform(0.5, 0.7)\n",
    "            datos.at[i, \"Créditos simples otorgados desde 2018\"] = p\n",
    "        \n",
    "    datos = datos.rename(columns={\"FH_FORMA CREDITO 2018\":\"Créditos\", \"Créditos simples otorgados desde 2018\":\"Salud\"})\n",
    "    return datos\n",
    "datos_h=homogen_datos(datos_BBVA)"
   ]
  },
  {
   "cell_type": "code",
   "execution_count": 7,
   "metadata": {},
   "outputs": [],
   "source": [
    "constructora = order_index(constructora.iloc[:,1:6])"
   ]
  },
  {
   "cell_type": "code",
   "execution_count": 8,
   "metadata": {},
   "outputs": [],
   "source": [
    "sastreria = order_index(sastreria.iloc[:,1:6])"
   ]
  },
  {
   "cell_type": "code",
   "execution_count": 9,
   "metadata": {},
   "outputs": [],
   "source": [
    "mecanica = order_index(mecanica.iloc[:,1:6])"
   ]
  },
  {
   "cell_type": "markdown",
   "metadata": {},
   "source": [
    "abogados"
   ]
  },
  {
   "cell_type": "code",
   "execution_count": 10,
   "metadata": {},
   "outputs": [],
   "source": [
    "abogados = order_index(abogados.iloc[:,1:6])"
   ]
  },
  {
   "cell_type": "code",
   "execution_count": 11,
   "metadata": {},
   "outputs": [],
   "source": [
    "servicios_medicos = order_index(servicios_medicos.iloc[:,1:6])"
   ]
  },
  {
   "cell_type": "code",
   "execution_count": 12,
   "metadata": {},
   "outputs": [],
   "source": [
    "frames = [carpinteria, constructora, sastreria, mecanica, abogados, servicios_medicos]"
   ]
  },
  {
   "cell_type": "code",
   "execution_count": 13,
   "metadata": {},
   "outputs": [],
   "source": [
    "matriz = pd.concat(frames,sort=True)"
   ]
  },
  {
   "cell_type": "code",
   "execution_count": 14,
   "metadata": {},
   "outputs": [],
   "source": [
    "matriz = matriz.fillna(0)"
   ]
  },
  {
   "cell_type": "code",
   "execution_count": 15,
   "metadata": {},
   "outputs": [],
   "source": [
    "clases = {0:'carpinteria',\n",
    "         1:'constructora',\n",
    "         2:'sastreria',\n",
    "         3:'mecanica',\n",
    "         4:'abogados',\n",
    "         5:'servicios médicos'}"
   ]
  },
  {
   "cell_type": "code",
   "execution_count": 16,
   "metadata": {},
   "outputs": [],
   "source": [
    "import numpy as np\n",
    "import matplotlib.pyplot as plt\n",
    "\n",
    "from sklearn.svm import LinearSVC \n",
    "from sklearn.model_selection import train_test_split"
   ]
  },
  {
   "cell_type": "code",
   "execution_count": 17,
   "metadata": {},
   "outputs": [],
   "source": [
    "data = matriz.values\n",
    "objetivos = [[i]*5 for i in range(6)]\n",
    "objetivos = np.vstack(objetivos).reshape(-1,1)\n",
    "data_train, data_test, obj_train, obj_test = train_test_split(data,objetivos,test_size=0.2)"
   ]
  },
  {
   "cell_type": "code",
   "execution_count": 18,
   "metadata": {},
   "outputs": [],
   "source": [
    "clf = LinearSVC().fit(data_train,obj_train.ravel())"
   ]
  },
  {
   "cell_type": "code",
   "execution_count": 19,
   "metadata": {},
   "outputs": [],
   "source": [
    "modelo = []\n",
    "meses=[1,2,3,4,5,6,7,8,9,10,11,12]\n",
    "modelo.append((0,promedio_meses(carpinteria,behavior_months)))\n",
    "modelo.append((1,promedio_meses(constructora,behavior_months)))\n",
    "modelo.append((2,promedio_meses(sastreria,behavior_months)))\n",
    "modelo.append((3,promedio_meses(mecanica,behavior_months)))\n",
    "modelo.append((4,promedio_meses(abogados,behavior_months)))\n",
    "modelo.append((5,promedio_meses(servicios_medicos,behavior_months)))\n",
    "#poly_reg = PolynomialFeatures(degree=6)\n",
    "#X_poly = poly_reg.fit_transform()\n",
    "#pol_reg = LinearRegression()\n",
    "#pol_reg.fit(X_poly, y)"
   ]
  },
  {
   "cell_type": "code",
   "execution_count": 20,
   "metadata": {},
   "outputs": [],
   "source": [
    "def sigmoid(x):\n",
    "    return 1/(1+np.exp(x))"
   ]
  },
  {
   "cell_type": "code",
   "execution_count": 21,
   "metadata": {},
   "outputs": [],
   "source": [
    "#nota: Asegurarse que una vez clasificadas, las variables vayan  donde deben. Ergo, orden alfabetico.\n",
    "def salud(mes,variables,clase,modelo):\n",
    "    error = 0\n",
    "    for i in range(5):\n",
    "        if variables[1][i] in modelo[clase][1][0]:\n",
    "            #Que quiero.\n",
    "            #Si la variable del individuo está en el modelo (ambas aparecen el el header)\n",
    "            #Restar a la variable i la variable del modelo en la cual el indice sea el correspondiente a \n",
    "            match = modelo[clase][1][0].index(variables[0][i])\n",
    "            error = error + variables[1][i]-modelo[clase][1][1][match][mes]\n",
    "    return sigmoid(error)"
   ]
  },
  {
   "cell_type": "code",
   "execution_count": 26,
   "metadata": {},
   "outputs": [],
   "source": [
    "def clasificador_Crediticio(apidatos,apitarget):#,empresadatos):\n",
    "    #partir infoapi en X,y\n",
    "    x_train, x_test, y_train, y_test = train_test_split(apidatos.astype('float'), apitarget.astype('float'), test_size=0.25, random_state=0)\n",
    "    logisticRegr = LogisticRegression()\n",
    "    logisticRegr.fit(x_train, y_train)\n",
    "    #logisticRegr.predict(empresadatos)\n",
    "    score = logisticRegr.score(x_test, y_test)\n",
    "    print(\"El modelo tiene un fit de  \" + str(score))"
   ]
  },
  {
   "cell_type": "code",
   "execution_count": 27,
   "metadata": {},
   "outputs": [
    {
     "name": "stdout",
     "output_type": "stream",
     "text": [
      "El modelo tiene un fit de  0.9916299559471365\n"
     ]
    }
   ],
   "source": [
    "apitarget = datos_h['Créditos']\n",
    "apidatos = datos_h.drop(columns=\"Créditos\")\n",
    "apidatos = apidatos.drop(columns=\"FH_NACIMIENTO\")\n",
    "apidatos = apidatos.drop(columns=\"FH_ANTIGUEDAD CON BANCO\")\n",
    "apidatos = apidatos.fillna(0)\n",
    "l_sexo = preprocessing.LabelEncoder()\n",
    "l_tipo_persona = preprocessing.LabelEncoder()\n",
    "l_cd_estado = preprocessing.LabelEncoder()\n",
    "l_municipio = preprocessing.LabelEncoder()\n",
    "l_sexo = preprocessing.LabelEncoder()\n",
    "l_nb_actividad = preprocessing.LabelEncoder()\n",
    "l_nb_s2 = preprocessing.LabelEncoder()\n",
    "l_nb_s_nrb = preprocessing.LabelEncoder()\n",
    "l_rango_ventas = preprocessing.LabelEncoder()\n",
    "apidatos['Sexo'] = l_sexo.fit_transform(apidatos['Sexo'])\n",
    "apidatos['Tipo Persona'] = l_tipo_persona.fit_transform(apidatos['Tipo Persona'])\n",
    "apidatos['CD_ESTADO'] = l_cd_estado.fit_transform(apidatos['CD_ESTADO'])\n",
    "apidatos['Municipio'] = l_municipio.fit_transform(apidatos['Municipio'])\n",
    "apidatos['NB_ACTIVIDAD'] = l_nb_actividad.fit_transform(apidatos['NB_ACTIVIDAD'])\n",
    "apidatos['NB_SECTOR_N2'] = l_nb_s2.fit_transform(apidatos['NB_SECTOR_N2'])\n",
    "apidatos['NB_SEG_NRB_19'] = l_nb_s_nrb.fit_transform(apidatos['NB_SEG_NRB_19'])\n",
    "apidatos['Rango Ventas'] = l_rango_ventas.fit_transform(apidatos['Rango Ventas'])\n",
    "#TENEMOS QUE HACER FECHAS, volver ND numerico en ventas tpb\n",
    "#apidatos.dtypes\n",
    "clasificador_Crediticio(apidatos.values,apitarget.values)"
   ]
  },
  {
   "cell_type": "code",
   "execution_count": null,
   "metadata": {},
   "outputs": [],
   "source": []
  }
 ],
 "metadata": {
  "kernelspec": {
   "display_name": "Python 3",
   "language": "python",
   "name": "python3"
  },
  "language_info": {
   "codemirror_mode": {
    "name": "ipython",
    "version": 3
   },
   "file_extension": ".py",
   "mimetype": "text/x-python",
   "name": "python",
   "nbconvert_exporter": "python",
   "pygments_lexer": "ipython3",
   "version": "3.7.3"
  }
 },
 "nbformat": 4,
 "nbformat_minor": 2
}
