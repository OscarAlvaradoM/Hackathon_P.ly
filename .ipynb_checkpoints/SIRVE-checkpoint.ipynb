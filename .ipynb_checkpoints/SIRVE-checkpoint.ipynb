{
 "cells": [
  {
   "cell_type": "code",
   "execution_count": 205,
   "metadata": {},
   "outputs": [],
   "source": [
    "from sklearn import datasets\n",
    "from sklearn.preprocessing import PolynomialFeatures\n",
    "from sklearn import linear_model\n",
    "import pandas as pd\n",
    "import numpy as np\n",
    "path = \"Datasets/\"\n",
    "carpinteria = pd.read_csv(path+\"carpinteria.csv\").apply(pd.to_numeric, errors='coerce')\n",
    "constructora = pd.read_csv(path+\"Constructoras.csv\").apply(pd.to_numeric, errors='coerce')\n",
    "sastreria = pd.read_csv(path+\"sastreria.csv\").apply(pd.to_numeric, errors='coerce')\n",
    "mecanica = pd.read_csv(path+\"mecanica.csv\").apply(pd.to_numeric, errors='coerce')\n",
    "abogados = pd.read_csv(path+\"Abogados.csv\").apply(pd.to_numeric, errors='coerce')\n",
    "servicios_medicos = pd.read_csv(path+\"ServiciosMedicos.csv\").apply(pd.to_numeric, errors='coerce')\n",
    "X, y = datasets.load_iris(return_X_y=True)\n",
    "behavior_months = [1.3,0.5,0.8,0.95,1.1,.8,.8,1.02,0.93,1,1.25,1.55]"
   ]
  },
  {
   "cell_type": "code",
   "execution_count": 206,
   "metadata": {},
   "outputs": [],
   "source": [
    "carpinteria.columns = carpinteria.iloc[1,:]"
   ]
  },
  {
   "cell_type": "code",
   "execution_count": 207,
   "metadata": {},
   "outputs": [],
   "source": [
    "carpinteria = order_index(carpinteria.iloc[2:,1:])"
   ]
  },
  {
   "cell_type": "code",
   "execution_count": 208,
   "metadata": {},
   "outputs": [],
   "source": [
    "def order_index(M):\n",
    "    c = M.copy()\n",
    "    return c.reindex(sorted(c.columns), axis=1)\n",
    "def normalizar(M):\n",
    "    m,n = M.shape\n",
    "    M2 = np.zeros((m,n))\n",
    "    \n",
    "    sumas = []\n",
    "    \n",
    "    for i in range(m):\n",
    "        sumas.append(sum([M[i,j] for j in range(n) if M[i,j] > 0]))\n",
    "        \n",
    "    for i in range(m):\n",
    "        for j in range(n):\n",
    "            M2[i,j] = M[i,j]/sumas[i]\n",
    "            \n",
    "    return M2\n",
    "def promedio_meses(m,behavior_months):\n",
    "    return (np.array(m.columns),np.array([behavior_months])*np.array([normalizar(m.values).mean(axis=0)]).T)"
   ]
  },
  {
   "cell_type": "code",
   "execution_count": 209,
   "metadata": {},
   "outputs": [
    {
     "data": {
      "text/html": [
       "<div>\n",
       "<style scoped>\n",
       "    .dataframe tbody tr th:only-of-type {\n",
       "        vertical-align: middle;\n",
       "    }\n",
       "\n",
       "    .dataframe tbody tr th {\n",
       "        vertical-align: top;\n",
       "    }\n",
       "\n",
       "    .dataframe thead th {\n",
       "        text-align: right;\n",
       "    }\n",
       "</style>\n",
       "<table border=\"1\" class=\"dataframe\">\n",
       "  <thead>\n",
       "    <tr style=\"text-align: right;\">\n",
       "      <th>1</th>\n",
       "      <th>113.0</th>\n",
       "      <th>313.0</th>\n",
       "      <th>321.0</th>\n",
       "      <th>337.0</th>\n",
       "      <th>541.0</th>\n",
       "    </tr>\n",
       "  </thead>\n",
       "  <tbody>\n",
       "    <tr>\n",
       "      <td>2</td>\n",
       "      <td>-5000.0</td>\n",
       "      <td>-300.0</td>\n",
       "      <td>299.0</td>\n",
       "      <td>24000.0</td>\n",
       "      <td>-5000.0</td>\n",
       "    </tr>\n",
       "    <tr>\n",
       "      <td>3</td>\n",
       "      <td>-2000.0</td>\n",
       "      <td>-300.0</td>\n",
       "      <td>1200.0</td>\n",
       "      <td>13990.0</td>\n",
       "      <td>-400.0</td>\n",
       "    </tr>\n",
       "    <tr>\n",
       "      <td>4</td>\n",
       "      <td>-300.0</td>\n",
       "      <td>-400.0</td>\n",
       "      <td>70400.0</td>\n",
       "      <td>-3229.0</td>\n",
       "      <td>-10000.0</td>\n",
       "    </tr>\n",
       "    <tr>\n",
       "      <td>5</td>\n",
       "      <td>0.0</td>\n",
       "      <td>-5000.0</td>\n",
       "      <td>32019.0</td>\n",
       "      <td>12000.0</td>\n",
       "      <td>-1200.0</td>\n",
       "    </tr>\n",
       "    <tr>\n",
       "      <td>6</td>\n",
       "      <td>-300.0</td>\n",
       "      <td>-4000.0</td>\n",
       "      <td>-290.0</td>\n",
       "      <td>4000.0</td>\n",
       "      <td>-399.0</td>\n",
       "    </tr>\n",
       "  </tbody>\n",
       "</table>\n",
       "</div>"
      ],
      "text/plain": [
       "1   113.0   313.0    321.0    337.0    541.0\n",
       "2 -5000.0  -300.0    299.0  24000.0  -5000.0\n",
       "3 -2000.0  -300.0   1200.0  13990.0   -400.0\n",
       "4  -300.0  -400.0  70400.0  -3229.0 -10000.0\n",
       "5     0.0 -5000.0  32019.0  12000.0  -1200.0\n",
       "6  -300.0 -4000.0   -290.0   4000.0   -399.0"
      ]
     },
     "execution_count": 209,
     "metadata": {},
     "output_type": "execute_result"
    }
   ],
   "source": [
    "carpinteria"
   ]
  },
  {
   "cell_type": "code",
   "execution_count": 210,
   "metadata": {},
   "outputs": [],
   "source": [
    "constructora = constructora.iloc[:,1:6]"
   ]
  },
  {
   "cell_type": "code",
   "execution_count": 211,
   "metadata": {},
   "outputs": [
    {
     "data": {
      "text/html": [
       "<div>\n",
       "<style scoped>\n",
       "    .dataframe tbody tr th:only-of-type {\n",
       "        vertical-align: middle;\n",
       "    }\n",
       "\n",
       "    .dataframe tbody tr th {\n",
       "        vertical-align: top;\n",
       "    }\n",
       "\n",
       "    .dataframe thead th {\n",
       "        text-align: right;\n",
       "    }\n",
       "</style>\n",
       "<table border=\"1\" class=\"dataframe\">\n",
       "  <thead>\n",
       "    <tr style=\"text-align: right;\">\n",
       "      <th></th>\n",
       "      <th>237</th>\n",
       "      <th>515</th>\n",
       "      <th>524</th>\n",
       "      <th>484</th>\n",
       "      <th>541</th>\n",
       "    </tr>\n",
       "  </thead>\n",
       "  <tbody>\n",
       "    <tr>\n",
       "      <td>0</td>\n",
       "      <td>45000</td>\n",
       "      <td>-46482</td>\n",
       "      <td>-32152</td>\n",
       "      <td>-31522</td>\n",
       "      <td>1352</td>\n",
       "    </tr>\n",
       "    <tr>\n",
       "      <td>1</td>\n",
       "      <td>81523</td>\n",
       "      <td>-45561</td>\n",
       "      <td>-351212</td>\n",
       "      <td>-313211</td>\n",
       "      <td>1542</td>\n",
       "    </tr>\n",
       "    <tr>\n",
       "      <td>2</td>\n",
       "      <td>354112</td>\n",
       "      <td>-322132</td>\n",
       "      <td>-32155</td>\n",
       "      <td>-31052</td>\n",
       "      <td>32155</td>\n",
       "    </tr>\n",
       "    <tr>\n",
       "      <td>3</td>\n",
       "      <td>65458</td>\n",
       "      <td>-31205</td>\n",
       "      <td>-4631</td>\n",
       "      <td>-6585</td>\n",
       "      <td>3512</td>\n",
       "    </tr>\n",
       "    <tr>\n",
       "      <td>4</td>\n",
       "      <td>31863</td>\n",
       "      <td>-3515</td>\n",
       "      <td>-20253</td>\n",
       "      <td>-35481</td>\n",
       "      <td>51694</td>\n",
       "    </tr>\n",
       "  </tbody>\n",
       "</table>\n",
       "</div>"
      ],
      "text/plain": [
       "      237     515     524     484    541\n",
       "0   45000  -46482  -32152  -31522   1352\n",
       "1   81523  -45561 -351212 -313211   1542\n",
       "2  354112 -322132  -32155  -31052  32155\n",
       "3   65458  -31205   -4631   -6585   3512\n",
       "4   31863   -3515  -20253  -35481  51694"
      ]
     },
     "execution_count": 211,
     "metadata": {},
     "output_type": "execute_result"
    }
   ],
   "source": [
    "constructora"
   ]
  },
  {
   "cell_type": "code",
   "execution_count": 212,
   "metadata": {},
   "outputs": [],
   "source": [
    "sastreria = sastreria.iloc[:,1:6]"
   ]
  },
  {
   "cell_type": "code",
   "execution_count": 213,
   "metadata": {},
   "outputs": [
    {
     "data": {
      "text/html": [
       "<div>\n",
       "<style scoped>\n",
       "    .dataframe tbody tr th:only-of-type {\n",
       "        vertical-align: middle;\n",
       "    }\n",
       "\n",
       "    .dataframe tbody tr th {\n",
       "        vertical-align: top;\n",
       "    }\n",
       "\n",
       "    .dataframe thead th {\n",
       "        text-align: right;\n",
       "    }\n",
       "</style>\n",
       "<table border=\"1\" class=\"dataframe\">\n",
       "  <thead>\n",
       "    <tr style=\"text-align: right;\">\n",
       "      <th></th>\n",
       "      <th>313</th>\n",
       "      <th>314</th>\n",
       "      <th>463</th>\n",
       "      <th>811</th>\n",
       "      <th>532</th>\n",
       "    </tr>\n",
       "  </thead>\n",
       "  <tbody>\n",
       "    <tr>\n",
       "      <td>0</td>\n",
       "      <td>8562</td>\n",
       "      <td>9854</td>\n",
       "      <td>251</td>\n",
       "      <td>-126</td>\n",
       "      <td>20</td>\n",
       "    </tr>\n",
       "    <tr>\n",
       "      <td>1</td>\n",
       "      <td>4159</td>\n",
       "      <td>6236</td>\n",
       "      <td>56</td>\n",
       "      <td>-459</td>\n",
       "      <td>-56</td>\n",
       "    </tr>\n",
       "    <tr>\n",
       "      <td>2</td>\n",
       "      <td>7963</td>\n",
       "      <td>4896</td>\n",
       "      <td>123</td>\n",
       "      <td>-1987</td>\n",
       "      <td>-89</td>\n",
       "    </tr>\n",
       "    <tr>\n",
       "      <td>3</td>\n",
       "      <td>5269</td>\n",
       "      <td>2367</td>\n",
       "      <td>-568</td>\n",
       "      <td>-136</td>\n",
       "      <td>-78</td>\n",
       "    </tr>\n",
       "    <tr>\n",
       "      <td>4</td>\n",
       "      <td>4896</td>\n",
       "      <td>1968</td>\n",
       "      <td>-987</td>\n",
       "      <td>-258</td>\n",
       "      <td>-32</td>\n",
       "    </tr>\n",
       "  </tbody>\n",
       "</table>\n",
       "</div>"
      ],
      "text/plain": [
       "    313   314  463   811  532\n",
       "0  8562  9854  251  -126   20\n",
       "1  4159  6236   56  -459  -56\n",
       "2  7963  4896  123 -1987  -89\n",
       "3  5269  2367 -568  -136  -78\n",
       "4  4896  1968 -987  -258  -32"
      ]
     },
     "execution_count": 213,
     "metadata": {},
     "output_type": "execute_result"
    }
   ],
   "source": [
    "sastreria"
   ]
  },
  {
   "cell_type": "code",
   "execution_count": 214,
   "metadata": {},
   "outputs": [],
   "source": [
    "mecanica = mecanica.iloc[:,1:6]"
   ]
  },
  {
   "cell_type": "code",
   "execution_count": 215,
   "metadata": {},
   "outputs": [
    {
     "data": {
      "text/html": [
       "<div>\n",
       "<style scoped>\n",
       "    .dataframe tbody tr th:only-of-type {\n",
       "        vertical-align: middle;\n",
       "    }\n",
       "\n",
       "    .dataframe tbody tr th {\n",
       "        vertical-align: top;\n",
       "    }\n",
       "\n",
       "    .dataframe thead th {\n",
       "        text-align: right;\n",
       "    }\n",
       "</style>\n",
       "<table border=\"1\" class=\"dataframe\">\n",
       "  <thead>\n",
       "    <tr style=\"text-align: right;\">\n",
       "      <th></th>\n",
       "      <th>811</th>\n",
       "      <th>468</th>\n",
       "      <th>524</th>\n",
       "      <th>812</th>\n",
       "      <th>519</th>\n",
       "    </tr>\n",
       "  </thead>\n",
       "  <tbody>\n",
       "    <tr>\n",
       "      <td>0</td>\n",
       "      <td>-8420</td>\n",
       "      <td>9658</td>\n",
       "      <td>-1250</td>\n",
       "      <td>-340</td>\n",
       "      <td>-50</td>\n",
       "    </tr>\n",
       "    <tr>\n",
       "      <td>1</td>\n",
       "      <td>-7518</td>\n",
       "      <td>11562</td>\n",
       "      <td>-1362</td>\n",
       "      <td>-260</td>\n",
       "      <td>-46</td>\n",
       "    </tr>\n",
       "    <tr>\n",
       "      <td>2</td>\n",
       "      <td>-3245</td>\n",
       "      <td>9351</td>\n",
       "      <td>-1450</td>\n",
       "      <td>-351</td>\n",
       "      <td>-82</td>\n",
       "    </tr>\n",
       "    <tr>\n",
       "      <td>3</td>\n",
       "      <td>-4689</td>\n",
       "      <td>13412</td>\n",
       "      <td>-1600</td>\n",
       "      <td>-251</td>\n",
       "      <td>-49</td>\n",
       "    </tr>\n",
       "    <tr>\n",
       "      <td>4</td>\n",
       "      <td>-8659</td>\n",
       "      <td>12058</td>\n",
       "      <td>-1200</td>\n",
       "      <td>-102</td>\n",
       "      <td>-88</td>\n",
       "    </tr>\n",
       "  </tbody>\n",
       "</table>\n",
       "</div>"
      ],
      "text/plain": [
       "    811    468   524  812  519\n",
       "0 -8420   9658 -1250 -340  -50\n",
       "1 -7518  11562 -1362 -260  -46\n",
       "2 -3245   9351 -1450 -351  -82\n",
       "3 -4689  13412 -1600 -251  -49\n",
       "4 -8659  12058 -1200 -102  -88"
      ]
     },
     "execution_count": 215,
     "metadata": {},
     "output_type": "execute_result"
    }
   ],
   "source": [
    "mecanica"
   ]
  },
  {
   "cell_type": "markdown",
   "metadata": {},
   "source": [
    "abogados"
   ]
  },
  {
   "cell_type": "code",
   "execution_count": 216,
   "metadata": {},
   "outputs": [],
   "source": [
    "abogados = abogados.iloc[:,1:6]"
   ]
  },
  {
   "cell_type": "code",
   "execution_count": 217,
   "metadata": {},
   "outputs": [
    {
     "data": {
      "text/html": [
       "<div>\n",
       "<style scoped>\n",
       "    .dataframe tbody tr th:only-of-type {\n",
       "        vertical-align: middle;\n",
       "    }\n",
       "\n",
       "    .dataframe tbody tr th {\n",
       "        vertical-align: top;\n",
       "    }\n",
       "\n",
       "    .dataframe thead th {\n",
       "        text-align: right;\n",
       "    }\n",
       "</style>\n",
       "<table border=\"1\" class=\"dataframe\">\n",
       "  <thead>\n",
       "    <tr style=\"text-align: right;\">\n",
       "      <th></th>\n",
       "      <th>531</th>\n",
       "      <th>541</th>\n",
       "      <th>551</th>\n",
       "      <th>561</th>\n",
       "      <th>931</th>\n",
       "    </tr>\n",
       "  </thead>\n",
       "  <tbody>\n",
       "    <tr>\n",
       "      <td>0</td>\n",
       "      <td>-15243</td>\n",
       "      <td>20352</td>\n",
       "      <td>-3451</td>\n",
       "      <td>3210</td>\n",
       "      <td>1321</td>\n",
       "    </tr>\n",
       "    <tr>\n",
       "      <td>1</td>\n",
       "      <td>-15345</td>\n",
       "      <td>32210</td>\n",
       "      <td>-25232</td>\n",
       "      <td>2152</td>\n",
       "      <td>3215</td>\n",
       "    </tr>\n",
       "    <tr>\n",
       "      <td>2</td>\n",
       "      <td>-16203</td>\n",
       "      <td>51502</td>\n",
       "      <td>-5411</td>\n",
       "      <td>5462</td>\n",
       "      <td>3522</td>\n",
       "    </tr>\n",
       "    <tr>\n",
       "      <td>3</td>\n",
       "      <td>-22150</td>\n",
       "      <td>32201</td>\n",
       "      <td>-3125</td>\n",
       "      <td>5132</td>\n",
       "      <td>2151</td>\n",
       "    </tr>\n",
       "    <tr>\n",
       "      <td>4</td>\n",
       "      <td>-32210</td>\n",
       "      <td>21220</td>\n",
       "      <td>-1352</td>\n",
       "      <td>5480</td>\n",
       "      <td>1232</td>\n",
       "    </tr>\n",
       "  </tbody>\n",
       "</table>\n",
       "</div>"
      ],
      "text/plain": [
       "     531    541    551   561   931\n",
       "0 -15243  20352  -3451  3210  1321\n",
       "1 -15345  32210 -25232  2152  3215\n",
       "2 -16203  51502  -5411  5462  3522\n",
       "3 -22150  32201  -3125  5132  2151\n",
       "4 -32210  21220  -1352  5480  1232"
      ]
     },
     "execution_count": 217,
     "metadata": {},
     "output_type": "execute_result"
    }
   ],
   "source": [
    "abogados"
   ]
  },
  {
   "cell_type": "code",
   "execution_count": 218,
   "metadata": {},
   "outputs": [],
   "source": [
    "servicios_medicos = servicios_medicos.iloc[:,1:6]"
   ]
  },
  {
   "cell_type": "code",
   "execution_count": 219,
   "metadata": {},
   "outputs": [
    {
     "data": {
      "text/html": [
       "<div>\n",
       "<style scoped>\n",
       "    .dataframe tbody tr th:only-of-type {\n",
       "        vertical-align: middle;\n",
       "    }\n",
       "\n",
       "    .dataframe tbody tr th {\n",
       "        vertical-align: top;\n",
       "    }\n",
       "\n",
       "    .dataframe thead th {\n",
       "        text-align: right;\n",
       "    }\n",
       "</style>\n",
       "<table border=\"1\" class=\"dataframe\">\n",
       "  <thead>\n",
       "    <tr style=\"text-align: right;\">\n",
       "      <th></th>\n",
       "      <th>621</th>\n",
       "      <th>531</th>\n",
       "      <th>541</th>\n",
       "      <th>811</th>\n",
       "      <th>333</th>\n",
       "    </tr>\n",
       "  </thead>\n",
       "  <tbody>\n",
       "    <tr>\n",
       "      <td>0</td>\n",
       "      <td>247080</td>\n",
       "      <td>-92383</td>\n",
       "      <td>-2000</td>\n",
       "      <td>-3276</td>\n",
       "      <td>-4718</td>\n",
       "    </tr>\n",
       "    <tr>\n",
       "      <td>1</td>\n",
       "      <td>319820</td>\n",
       "      <td>-72339</td>\n",
       "      <td>-1233</td>\n",
       "      <td>-5783</td>\n",
       "      <td>-2455</td>\n",
       "    </tr>\n",
       "    <tr>\n",
       "      <td>2</td>\n",
       "      <td>421228</td>\n",
       "      <td>-91282</td>\n",
       "      <td>-3829</td>\n",
       "      <td>-6372</td>\n",
       "      <td>-3498</td>\n",
       "    </tr>\n",
       "    <tr>\n",
       "      <td>3</td>\n",
       "      <td>123345</td>\n",
       "      <td>-45363</td>\n",
       "      <td>-3384</td>\n",
       "      <td>-4433</td>\n",
       "      <td>-1223</td>\n",
       "    </tr>\n",
       "    <tr>\n",
       "      <td>4</td>\n",
       "      <td>548343</td>\n",
       "      <td>-150000</td>\n",
       "      <td>-5348</td>\n",
       "      <td>-8272</td>\n",
       "      <td>-9233</td>\n",
       "    </tr>\n",
       "  </tbody>\n",
       "</table>\n",
       "</div>"
      ],
      "text/plain": [
       "      621     531   541   811   333\n",
       "0  247080  -92383 -2000 -3276 -4718\n",
       "1  319820  -72339 -1233 -5783 -2455\n",
       "2  421228  -91282 -3829 -6372 -3498\n",
       "3  123345  -45363 -3384 -4433 -1223\n",
       "4  548343 -150000 -5348 -8272 -9233"
      ]
     },
     "execution_count": 219,
     "metadata": {},
     "output_type": "execute_result"
    }
   ],
   "source": [
    "servicios_medicos"
   ]
  },
  {
   "cell_type": "code",
   "execution_count": 220,
   "metadata": {},
   "outputs": [],
   "source": [
    "frames = [carpinteria, constructora, sastreria, mecanica, abogados, servicios_medicos]"
   ]
  },
  {
   "cell_type": "code",
   "execution_count": 221,
   "metadata": {},
   "outputs": [],
   "source": [
    "matriz = pd.concat(frames)"
   ]
  },
  {
   "cell_type": "code",
   "execution_count": 222,
   "metadata": {},
   "outputs": [],
   "source": [
    "matriz = matriz.fillna(0)"
   ]
  },
  {
   "cell_type": "code",
   "execution_count": 223,
   "metadata": {},
   "outputs": [],
   "source": [
    "clases = {0:'carpinteria',\n",
    "         1:'constructora',\n",
    "         2:'sastreria',\n",
    "         3:'mecanica',\n",
    "         4:'abogados',\n",
    "         5:'servicios médicos'}"
   ]
  },
  {
   "cell_type": "code",
   "execution_count": 224,
   "metadata": {},
   "outputs": [],
   "source": [
    "import numpy as np\n",
    "import matplotlib.pyplot as plt\n",
    "\n",
    "from sklearn.svm import LinearSVC \n",
    "from sklearn.model_selection import train_test_split"
   ]
  },
  {
   "cell_type": "code",
   "execution_count": 225,
   "metadata": {},
   "outputs": [],
   "source": [
    "data = matriz.values\n",
    "objetivos = [[i]*5 for i in range(6)]\n",
    "objetivos = np.vstack(objetivos).reshape(-1,1)\n",
    "data_train, data_test, obj_train, obj_test = train_test_split(data,objetivos,test_size=0.2)"
   ]
  },
  {
   "cell_type": "code",
   "execution_count": 226,
   "metadata": {},
   "outputs": [],
   "source": [
    "clf = LinearSVC().fit(data_train,obj_train.ravel())"
   ]
  },
  {
   "cell_type": "code",
   "execution_count": 227,
   "metadata": {},
   "outputs": [
    {
     "data": {
      "text/plain": [
       "0.6666666666666666"
      ]
     },
     "execution_count": 227,
     "metadata": {},
     "output_type": "execute_result"
    }
   ],
   "source": [
    "clf.score(data_test,obj_test)"
   ]
  },
  {
   "cell_type": "code",
   "execution_count": 228,
   "metadata": {},
   "outputs": [],
   "source": [
    "modelo = []\n",
    "meses=[1,2,3,4,5,6,7,8,9,10,11,12]\n",
    "modelo.append((0,promedio_meses(carpinteria,behavior_months)))\n",
    "modelo.append((1,promedio_meses(constructora,behavior_months)))\n",
    "modelo.append((2,promedio_meses(sastreria,behavior_months)))\n",
    "modelo.append((3,promedio_meses(mecanica,behavior_months)))\n",
    "modelo.append((4,promedio_meses(abogados,behavior_months)))\n",
    "modelo.append((5,promedio_meses(servicios_medicos,behavior_months)))\n",
    "#poly_reg = PolynomialFeatures(degree=6)\n",
    "#X_poly = poly_reg.fit_transform()\n",
    "#pol_reg = LinearRegression()\n",
    "#pol_reg.fit(X_poly, y)"
   ]
  },
  {
   "cell_type": "code",
   "execution_count": 229,
   "metadata": {},
   "outputs": [
    {
     "data": {
      "text/plain": [
       "(5,\n",
       " (array(['621', '531', '541', '811', '333'], dtype=object),\n",
       "  array([[ 1.3       ,  0.5       ,  0.8       ,  0.95      ,  1.1       ,\n",
       "           0.8       ,  0.8       ,  1.02      ,  0.93      ,  1.        ,\n",
       "           1.25      ,  1.55      ],\n",
       "         [-0.37910989, -0.1458115 , -0.23329839, -0.27704184, -0.32078529,\n",
       "          -0.23329839, -0.23329839, -0.29745545, -0.27120938, -0.29162299,\n",
       "          -0.36452874, -0.45201564],\n",
       "         [-0.01513933, -0.00582282, -0.00931651, -0.01106336, -0.0128102 ,\n",
       "          -0.00931651, -0.00931651, -0.01187855, -0.01083044, -0.01164564,\n",
       "          -0.01455705, -0.01805074],\n",
       "         [-0.02534828, -0.00974934, -0.01559894, -0.01852375, -0.02144855,\n",
       "          -0.01559894, -0.01559894, -0.01988865, -0.01813377, -0.01949868,\n",
       "          -0.02437335, -0.03022295],\n",
       "         [-0.01607549, -0.00618288, -0.00989261, -0.01174747, -0.01360233,\n",
       "          -0.00989261, -0.00989261, -0.01261307, -0.01150016, -0.01236576,\n",
       "          -0.0154572 , -0.01916693]])))"
      ]
     },
     "execution_count": 229,
     "metadata": {},
     "output_type": "execute_result"
    }
   ],
   "source": [
    "modelo[5][1][1]\n",
    "modelo[5]"
   ]
  },
  {
   "cell_type": "code",
   "execution_count": 230,
   "metadata": {},
   "outputs": [
    {
     "data": {
      "text/plain": [
       "(array(['811', '468', '524', '812', '519'], dtype=object),\n",
       " array([[-0.76356698, -0.29367961, -0.46988737, -0.55799126, -0.64609514,\n",
       "         -0.46988737, -0.46988737, -0.5991064 , -0.54624407, -0.58735922,\n",
       "         -0.73419902, -0.91040679],\n",
       "        [ 1.3       ,  0.5       ,  0.8       ,  0.95      ,  1.1       ,\n",
       "          0.8       ,  0.8       ,  1.02      ,  0.93      ,  1.        ,\n",
       "          1.25      ,  1.55      ],\n",
       "        [-0.16148726, -0.06211048, -0.09937678, -0.11800992, -0.13664307,\n",
       "         -0.09937678, -0.09937678, -0.12670539, -0.1155255 , -0.12422097,\n",
       "         -0.15527621, -0.1925425 ],\n",
       "        [-0.03182432, -0.01224012, -0.0195842 , -0.02325623, -0.02692827,\n",
       "         -0.0195842 , -0.0195842 , -0.02496985, -0.02276663, -0.02448025,\n",
       "         -0.03060031, -0.03794438],\n",
       "        [-0.00750782, -0.00288762, -0.0046202 , -0.00548648, -0.00635277,\n",
       "         -0.0046202 , -0.0046202 , -0.00589075, -0.00537098, -0.00577525,\n",
       "         -0.00721906, -0.00895163]]))"
      ]
     },
     "execution_count": 230,
     "metadata": {},
     "output_type": "execute_result"
    }
   ],
   "source": [
    "modelo[3][1]"
   ]
  },
  {
   "cell_type": "code",
   "execution_count": 231,
   "metadata": {},
   "outputs": [],
   "source": [
    "#revisar los dos anteriores"
   ]
  },
  {
   "cell_type": "code",
   "execution_count": 232,
   "metadata": {},
   "outputs": [],
   "source": [
    "def sigmoid(x):\n",
    "    return 1/(1+np.exp(x))"
   ]
  },
  {
   "cell_type": "code",
   "execution_count": 235,
   "metadata": {},
   "outputs": [],
   "source": [
    "#nota: Asegurarse que una vez clasificadas, las variables vayan  donde deben. Ergo, orden alfabetico.\n",
    "def salud(mes,variables,clase,modelo):\n",
    "    error = 0\n",
    "    for i in range(5):\n",
    "        if variables[1][i] in modelo[clase][1][0]:\n",
    "            #Que quiero.\n",
    "            #Si la variable del individuo está en el modelo (ambas aparecen el el header)\n",
    "            #Restar a la variable i la variable del modelo en la cual el indice sea el correspondiente a \n",
    "            match = modelo[clase][1][0].index(variables[0][i])\n",
    "            error = error + variables[1][i]-modelo[clase][1][1][match][mes]\n",
    "    return sigmoid(error)"
   ]
  },
  {
   "cell_type": "code",
   "execution_count": 234,
   "metadata": {},
   "outputs": [
    {
     "ename": "SyntaxError",
     "evalue": "unexpected EOF while parsing (<ipython-input-234-a56f6883d576>, line 3)",
     "output_type": "error",
     "traceback": [
      "\u001b[0;36m  File \u001b[0;32m\"<ipython-input-234-a56f6883d576>\"\u001b[0;36m, line \u001b[0;32m3\u001b[0m\n\u001b[0;31m    \u001b[0m\n\u001b[0m    ^\u001b[0m\n\u001b[0;31mSyntaxError\u001b[0m\u001b[0;31m:\u001b[0m unexpected EOF while parsing\n"
     ]
    }
   ],
   "source": [
    "def clasificador_Creditico(infoapi,salud):\n",
    "    for a in infoapi:\n",
    "        "
   ]
  },
  {
   "cell_type": "code",
   "execution_count": null,
   "metadata": {},
   "outputs": [],
   "source": []
  },
  {
   "cell_type": "code",
   "execution_count": null,
   "metadata": {},
   "outputs": [],
   "source": []
  },
  {
   "cell_type": "code",
   "execution_count": null,
   "metadata": {},
   "outputs": [],
   "source": []
  },
  {
   "cell_type": "code",
   "execution_count": null,
   "metadata": {},
   "outputs": [],
   "source": []
  }
 ],
 "metadata": {
  "kernelspec": {
   "display_name": "Python 3",
   "language": "python",
   "name": "python3"
  },
  "language_info": {
   "codemirror_mode": {
    "name": "ipython",
    "version": 3
   },
   "file_extension": ".py",
   "mimetype": "text/x-python",
   "name": "python",
   "nbconvert_exporter": "python",
   "pygments_lexer": "ipython3",
   "version": "3.7.3"
  }
 },
 "nbformat": 4,
 "nbformat_minor": 2
}
