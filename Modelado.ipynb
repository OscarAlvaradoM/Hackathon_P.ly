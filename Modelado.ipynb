{
 "cells": [
  {
   "cell_type": "code",
   "execution_count": 5,
   "metadata": {},
   "outputs": [],
   "source": [
    "from sklearn import datasets\n",
    "import pandas as pd\n",
    "path = \"Datasets/\"\n",
    "carpinteria = pd.read_csv(path+\"carpinteria.csv\") \n",
    "constructora = pd.read_csv(path+\"Constructoras.csv\")\n",
    "sastreria = pd.read_csv(path+\"sastreria.csv\")\n",
    "mecanica = pd.read_csv(path+\"mecanica.csv\")\n",
    "abogados = pd.read_csv(path+\"Abogados.csv\")\n",
    "servicios_medicos = pd.read_csv(path+\"ServiciosMedicos.csv\")\n",
    "X, y = datasets.load_iris(return_X_y=True)\n"
   ]
  },
  {
   "cell_type": "code",
   "execution_count": 6,
   "metadata": {},
   "outputs": [],
   "source": [
    "carpinteria.columns = carpinteria.iloc[1,:]"
   ]
  },
  {
   "cell_type": "code",
   "execution_count": 7,
   "metadata": {},
   "outputs": [],
   "source": [
    "carpinteria = carpinteria.iloc[2:,1:]\n"
   ]
  },
  {
   "cell_type": "code",
   "execution_count": 8,
   "metadata": {},
   "outputs": [
    {
     "data": {
      "text/html": [
       "<div>\n",
       "<style scoped>\n",
       "    .dataframe tbody tr th:only-of-type {\n",
       "        vertical-align: middle;\n",
       "    }\n",
       "\n",
       "    .dataframe tbody tr th {\n",
       "        vertical-align: top;\n",
       "    }\n",
       "\n",
       "    .dataframe thead th {\n",
       "        text-align: right;\n",
       "    }\n",
       "</style>\n",
       "<table border=\"1\" class=\"dataframe\">\n",
       "  <thead>\n",
       "    <tr style=\"text-align: right;\">\n",
       "      <th>1</th>\n",
       "      <th>337</th>\n",
       "      <th>321</th>\n",
       "      <th>113</th>\n",
       "      <th>313</th>\n",
       "      <th>541</th>\n",
       "    </tr>\n",
       "  </thead>\n",
       "  <tbody>\n",
       "    <tr>\n",
       "      <th>2</th>\n",
       "      <td>24000</td>\n",
       "      <td>299</td>\n",
       "      <td>-5000</td>\n",
       "      <td>-300</td>\n",
       "      <td>-5000</td>\n",
       "    </tr>\n",
       "    <tr>\n",
       "      <th>3</th>\n",
       "      <td>13990</td>\n",
       "      <td>1200</td>\n",
       "      <td>-2000</td>\n",
       "      <td>-300</td>\n",
       "      <td>-400</td>\n",
       "    </tr>\n",
       "    <tr>\n",
       "      <th>4</th>\n",
       "      <td>-3229</td>\n",
       "      <td>70400</td>\n",
       "      <td>-300</td>\n",
       "      <td>-400</td>\n",
       "      <td>-10000</td>\n",
       "    </tr>\n",
       "    <tr>\n",
       "      <th>5</th>\n",
       "      <td>12000</td>\n",
       "      <td>32019</td>\n",
       "      <td>0</td>\n",
       "      <td>-5000</td>\n",
       "      <td>-1200</td>\n",
       "    </tr>\n",
       "    <tr>\n",
       "      <th>6</th>\n",
       "      <td>4000</td>\n",
       "      <td>-290</td>\n",
       "      <td>-300</td>\n",
       "      <td>-4000</td>\n",
       "      <td>-399</td>\n",
       "    </tr>\n",
       "  </tbody>\n",
       "</table>\n",
       "</div>"
      ],
      "text/plain": [
       "1    337    321    113    313     541\n",
       "2  24000    299  -5000   -300   -5000\n",
       "3  13990   1200  -2000   -300    -400\n",
       "4  -3229  70400   -300   -400  -10000\n",
       "5  12000  32019      0  -5000   -1200\n",
       "6   4000   -290   -300  -4000    -399"
      ]
     },
     "execution_count": 8,
     "metadata": {},
     "output_type": "execute_result"
    }
   ],
   "source": [
    "carpinteria"
   ]
  },
  {
   "cell_type": "code",
   "execution_count": 9,
   "metadata": {},
   "outputs": [],
   "source": [
    "constructora = constructora.iloc[:,1:6]"
   ]
  },
  {
   "cell_type": "code",
   "execution_count": 10,
   "metadata": {},
   "outputs": [
    {
     "data": {
      "text/html": [
       "<div>\n",
       "<style scoped>\n",
       "    .dataframe tbody tr th:only-of-type {\n",
       "        vertical-align: middle;\n",
       "    }\n",
       "\n",
       "    .dataframe tbody tr th {\n",
       "        vertical-align: top;\n",
       "    }\n",
       "\n",
       "    .dataframe thead th {\n",
       "        text-align: right;\n",
       "    }\n",
       "</style>\n",
       "<table border=\"1\" class=\"dataframe\">\n",
       "  <thead>\n",
       "    <tr style=\"text-align: right;\">\n",
       "      <th></th>\n",
       "      <th>237</th>\n",
       "      <th>515</th>\n",
       "      <th>524</th>\n",
       "      <th>484</th>\n",
       "      <th>541</th>\n",
       "    </tr>\n",
       "  </thead>\n",
       "  <tbody>\n",
       "    <tr>\n",
       "      <th>0</th>\n",
       "      <td>45000</td>\n",
       "      <td>-46482</td>\n",
       "      <td>-32152</td>\n",
       "      <td>-31522</td>\n",
       "      <td>1352</td>\n",
       "    </tr>\n",
       "    <tr>\n",
       "      <th>1</th>\n",
       "      <td>81523</td>\n",
       "      <td>-45561</td>\n",
       "      <td>-351212</td>\n",
       "      <td>-313211</td>\n",
       "      <td>1542</td>\n",
       "    </tr>\n",
       "    <tr>\n",
       "      <th>2</th>\n",
       "      <td>354112</td>\n",
       "      <td>-322132</td>\n",
       "      <td>-32155</td>\n",
       "      <td>-31052</td>\n",
       "      <td>32155</td>\n",
       "    </tr>\n",
       "    <tr>\n",
       "      <th>3</th>\n",
       "      <td>65458</td>\n",
       "      <td>-31205</td>\n",
       "      <td>-4631</td>\n",
       "      <td>-6585</td>\n",
       "      <td>3512</td>\n",
       "    </tr>\n",
       "    <tr>\n",
       "      <th>4</th>\n",
       "      <td>31863</td>\n",
       "      <td>-3515</td>\n",
       "      <td>-20253</td>\n",
       "      <td>-35481</td>\n",
       "      <td>51694</td>\n",
       "    </tr>\n",
       "  </tbody>\n",
       "</table>\n",
       "</div>"
      ],
      "text/plain": [
       "      237     515     524     484    541\n",
       "0   45000  -46482  -32152  -31522   1352\n",
       "1   81523  -45561 -351212 -313211   1542\n",
       "2  354112 -322132  -32155  -31052  32155\n",
       "3   65458  -31205   -4631   -6585   3512\n",
       "4   31863   -3515  -20253  -35481  51694"
      ]
     },
     "execution_count": 10,
     "metadata": {},
     "output_type": "execute_result"
    }
   ],
   "source": [
    "constructora"
   ]
  },
  {
   "cell_type": "code",
   "execution_count": 11,
   "metadata": {},
   "outputs": [],
   "source": [
    "sastreria = sastreria.iloc[:,1:6]"
   ]
  },
  {
   "cell_type": "code",
   "execution_count": 12,
   "metadata": {},
   "outputs": [
    {
     "data": {
      "text/html": [
       "<div>\n",
       "<style scoped>\n",
       "    .dataframe tbody tr th:only-of-type {\n",
       "        vertical-align: middle;\n",
       "    }\n",
       "\n",
       "    .dataframe tbody tr th {\n",
       "        vertical-align: top;\n",
       "    }\n",
       "\n",
       "    .dataframe thead th {\n",
       "        text-align: right;\n",
       "    }\n",
       "</style>\n",
       "<table border=\"1\" class=\"dataframe\">\n",
       "  <thead>\n",
       "    <tr style=\"text-align: right;\">\n",
       "      <th></th>\n",
       "      <th>313</th>\n",
       "      <th>314</th>\n",
       "      <th>463</th>\n",
       "      <th>811</th>\n",
       "      <th>532</th>\n",
       "    </tr>\n",
       "  </thead>\n",
       "  <tbody>\n",
       "    <tr>\n",
       "      <th>0</th>\n",
       "      <td>8562</td>\n",
       "      <td>9854</td>\n",
       "      <td>251</td>\n",
       "      <td>-126</td>\n",
       "      <td>20</td>\n",
       "    </tr>\n",
       "    <tr>\n",
       "      <th>1</th>\n",
       "      <td>4159</td>\n",
       "      <td>6236</td>\n",
       "      <td>56</td>\n",
       "      <td>-459</td>\n",
       "      <td>-56</td>\n",
       "    </tr>\n",
       "    <tr>\n",
       "      <th>2</th>\n",
       "      <td>7963</td>\n",
       "      <td>4896</td>\n",
       "      <td>123</td>\n",
       "      <td>-1987</td>\n",
       "      <td>-89</td>\n",
       "    </tr>\n",
       "    <tr>\n",
       "      <th>3</th>\n",
       "      <td>5269</td>\n",
       "      <td>2367</td>\n",
       "      <td>-568</td>\n",
       "      <td>-136</td>\n",
       "      <td>-78</td>\n",
       "    </tr>\n",
       "    <tr>\n",
       "      <th>4</th>\n",
       "      <td>4896</td>\n",
       "      <td>1968</td>\n",
       "      <td>-987</td>\n",
       "      <td>-258</td>\n",
       "      <td>-32</td>\n",
       "    </tr>\n",
       "  </tbody>\n",
       "</table>\n",
       "</div>"
      ],
      "text/plain": [
       "    313   314  463   811  532\n",
       "0  8562  9854  251  -126   20\n",
       "1  4159  6236   56  -459  -56\n",
       "2  7963  4896  123 -1987  -89\n",
       "3  5269  2367 -568  -136  -78\n",
       "4  4896  1968 -987  -258  -32"
      ]
     },
     "execution_count": 12,
     "metadata": {},
     "output_type": "execute_result"
    }
   ],
   "source": [
    "sastreria"
   ]
  },
  {
   "cell_type": "code",
   "execution_count": 13,
   "metadata": {},
   "outputs": [],
   "source": [
    "mecanica = mecanica.iloc[:,1:6]"
   ]
  },
  {
   "cell_type": "code",
   "execution_count": 14,
   "metadata": {},
   "outputs": [
    {
     "data": {
      "text/html": [
       "<div>\n",
       "<style scoped>\n",
       "    .dataframe tbody tr th:only-of-type {\n",
       "        vertical-align: middle;\n",
       "    }\n",
       "\n",
       "    .dataframe tbody tr th {\n",
       "        vertical-align: top;\n",
       "    }\n",
       "\n",
       "    .dataframe thead th {\n",
       "        text-align: right;\n",
       "    }\n",
       "</style>\n",
       "<table border=\"1\" class=\"dataframe\">\n",
       "  <thead>\n",
       "    <tr style=\"text-align: right;\">\n",
       "      <th></th>\n",
       "      <th>811</th>\n",
       "      <th>468</th>\n",
       "      <th>524</th>\n",
       "      <th>812</th>\n",
       "      <th>519</th>\n",
       "    </tr>\n",
       "  </thead>\n",
       "  <tbody>\n",
       "    <tr>\n",
       "      <th>0</th>\n",
       "      <td>-8420</td>\n",
       "      <td>9658</td>\n",
       "      <td>-1250</td>\n",
       "      <td>-340</td>\n",
       "      <td>-50</td>\n",
       "    </tr>\n",
       "    <tr>\n",
       "      <th>1</th>\n",
       "      <td>-7518</td>\n",
       "      <td>11562</td>\n",
       "      <td>-1362</td>\n",
       "      <td>-260</td>\n",
       "      <td>-46</td>\n",
       "    </tr>\n",
       "    <tr>\n",
       "      <th>2</th>\n",
       "      <td>-3245</td>\n",
       "      <td>9351</td>\n",
       "      <td>-1450</td>\n",
       "      <td>-351</td>\n",
       "      <td>-82</td>\n",
       "    </tr>\n",
       "    <tr>\n",
       "      <th>3</th>\n",
       "      <td>-4689</td>\n",
       "      <td>13412</td>\n",
       "      <td>-1600</td>\n",
       "      <td>-251</td>\n",
       "      <td>-49</td>\n",
       "    </tr>\n",
       "    <tr>\n",
       "      <th>4</th>\n",
       "      <td>-8659</td>\n",
       "      <td>12058</td>\n",
       "      <td>-1200</td>\n",
       "      <td>-102</td>\n",
       "      <td>-88</td>\n",
       "    </tr>\n",
       "  </tbody>\n",
       "</table>\n",
       "</div>"
      ],
      "text/plain": [
       "    811    468   524  812  519\n",
       "0 -8420   9658 -1250 -340  -50\n",
       "1 -7518  11562 -1362 -260  -46\n",
       "2 -3245   9351 -1450 -351  -82\n",
       "3 -4689  13412 -1600 -251  -49\n",
       "4 -8659  12058 -1200 -102  -88"
      ]
     },
     "execution_count": 14,
     "metadata": {},
     "output_type": "execute_result"
    }
   ],
   "source": [
    "mecanica"
   ]
  },
  {
   "cell_type": "markdown",
   "metadata": {},
   "source": [
    "abogados"
   ]
  },
  {
   "cell_type": "code",
   "execution_count": 15,
   "metadata": {},
   "outputs": [],
   "source": [
    "abogados = abogados.iloc[:,1:6]"
   ]
  },
  {
   "cell_type": "code",
   "execution_count": 16,
   "metadata": {},
   "outputs": [
    {
     "data": {
      "text/html": [
       "<div>\n",
       "<style scoped>\n",
       "    .dataframe tbody tr th:only-of-type {\n",
       "        vertical-align: middle;\n",
       "    }\n",
       "\n",
       "    .dataframe tbody tr th {\n",
       "        vertical-align: top;\n",
       "    }\n",
       "\n",
       "    .dataframe thead th {\n",
       "        text-align: right;\n",
       "    }\n",
       "</style>\n",
       "<table border=\"1\" class=\"dataframe\">\n",
       "  <thead>\n",
       "    <tr style=\"text-align: right;\">\n",
       "      <th></th>\n",
       "      <th>531</th>\n",
       "      <th>541</th>\n",
       "      <th>551</th>\n",
       "      <th>561</th>\n",
       "      <th>931</th>\n",
       "    </tr>\n",
       "  </thead>\n",
       "  <tbody>\n",
       "    <tr>\n",
       "      <th>0</th>\n",
       "      <td>-15243</td>\n",
       "      <td>20352</td>\n",
       "      <td>-3451</td>\n",
       "      <td>3210</td>\n",
       "      <td>1321</td>\n",
       "    </tr>\n",
       "    <tr>\n",
       "      <th>1</th>\n",
       "      <td>-15345</td>\n",
       "      <td>32210</td>\n",
       "      <td>-25232</td>\n",
       "      <td>2152</td>\n",
       "      <td>3215</td>\n",
       "    </tr>\n",
       "    <tr>\n",
       "      <th>2</th>\n",
       "      <td>-16203</td>\n",
       "      <td>51502</td>\n",
       "      <td>-5411</td>\n",
       "      <td>5462</td>\n",
       "      <td>3522</td>\n",
       "    </tr>\n",
       "    <tr>\n",
       "      <th>3</th>\n",
       "      <td>-22150</td>\n",
       "      <td>32201</td>\n",
       "      <td>-3125</td>\n",
       "      <td>5132</td>\n",
       "      <td>2151</td>\n",
       "    </tr>\n",
       "    <tr>\n",
       "      <th>4</th>\n",
       "      <td>-32210</td>\n",
       "      <td>21220</td>\n",
       "      <td>-1352</td>\n",
       "      <td>5480</td>\n",
       "      <td>1232</td>\n",
       "    </tr>\n",
       "  </tbody>\n",
       "</table>\n",
       "</div>"
      ],
      "text/plain": [
       "     531    541    551   561   931\n",
       "0 -15243  20352  -3451  3210  1321\n",
       "1 -15345  32210 -25232  2152  3215\n",
       "2 -16203  51502  -5411  5462  3522\n",
       "3 -22150  32201  -3125  5132  2151\n",
       "4 -32210  21220  -1352  5480  1232"
      ]
     },
     "execution_count": 16,
     "metadata": {},
     "output_type": "execute_result"
    }
   ],
   "source": [
    "abogados"
   ]
  },
  {
   "cell_type": "code",
   "execution_count": 17,
   "metadata": {},
   "outputs": [],
   "source": [
    "servicios_medicos = servicios_medicos.iloc[:,1:6]"
   ]
  },
  {
   "cell_type": "code",
   "execution_count": 18,
   "metadata": {},
   "outputs": [
    {
     "data": {
      "text/html": [
       "<div>\n",
       "<style scoped>\n",
       "    .dataframe tbody tr th:only-of-type {\n",
       "        vertical-align: middle;\n",
       "    }\n",
       "\n",
       "    .dataframe tbody tr th {\n",
       "        vertical-align: top;\n",
       "    }\n",
       "\n",
       "    .dataframe thead th {\n",
       "        text-align: right;\n",
       "    }\n",
       "</style>\n",
       "<table border=\"1\" class=\"dataframe\">\n",
       "  <thead>\n",
       "    <tr style=\"text-align: right;\">\n",
       "      <th></th>\n",
       "      <th>621</th>\n",
       "      <th>531</th>\n",
       "      <th>541</th>\n",
       "      <th>811</th>\n",
       "      <th>333</th>\n",
       "    </tr>\n",
       "  </thead>\n",
       "  <tbody>\n",
       "    <tr>\n",
       "      <th>0</th>\n",
       "      <td>247080</td>\n",
       "      <td>-92383</td>\n",
       "      <td>-2000</td>\n",
       "      <td>-3276</td>\n",
       "      <td>-4718</td>\n",
       "    </tr>\n",
       "    <tr>\n",
       "      <th>1</th>\n",
       "      <td>319820</td>\n",
       "      <td>-72339</td>\n",
       "      <td>-1233</td>\n",
       "      <td>-5783</td>\n",
       "      <td>-2455</td>\n",
       "    </tr>\n",
       "    <tr>\n",
       "      <th>2</th>\n",
       "      <td>421228</td>\n",
       "      <td>-91282</td>\n",
       "      <td>-3829</td>\n",
       "      <td>-6372</td>\n",
       "      <td>-3498</td>\n",
       "    </tr>\n",
       "    <tr>\n",
       "      <th>3</th>\n",
       "      <td>123345</td>\n",
       "      <td>-45363</td>\n",
       "      <td>-3384</td>\n",
       "      <td>-4433</td>\n",
       "      <td>-1223</td>\n",
       "    </tr>\n",
       "    <tr>\n",
       "      <th>4</th>\n",
       "      <td>548343</td>\n",
       "      <td>-150000</td>\n",
       "      <td>-5348</td>\n",
       "      <td>-8272</td>\n",
       "      <td>-9233</td>\n",
       "    </tr>\n",
       "  </tbody>\n",
       "</table>\n",
       "</div>"
      ],
      "text/plain": [
       "      621     531   541   811   333\n",
       "0  247080  -92383 -2000 -3276 -4718\n",
       "1  319820  -72339 -1233 -5783 -2455\n",
       "2  421228  -91282 -3829 -6372 -3498\n",
       "3  123345  -45363 -3384 -4433 -1223\n",
       "4  548343 -150000 -5348 -8272 -9233"
      ]
     },
     "execution_count": 18,
     "metadata": {},
     "output_type": "execute_result"
    }
   ],
   "source": [
    "servicios_medicos"
   ]
  },
  {
   "cell_type": "code",
   "execution_count": 19,
   "metadata": {},
   "outputs": [],
   "source": [
    "frames = [carpinteria, constructora, sastreria, mecanica, abogados, servicios_medicos]"
   ]
  },
  {
   "cell_type": "code",
   "execution_count": 20,
   "metadata": {},
   "outputs": [
    {
     "name": "stderr",
     "output_type": "stream",
     "text": [
      "//anaconda3/lib/python3.7/site-packages/ipykernel_launcher.py:1: FutureWarning: Sorting because non-concatenation axis is not aligned. A future version\n",
      "of pandas will change to not sort by default.\n",
      "\n",
      "To accept the future behavior, pass 'sort=False'.\n",
      "\n",
      "To retain the current behavior and silence the warning, pass 'sort=True'.\n",
      "\n",
      "  \"\"\"Entry point for launching an IPython kernel.\n"
     ]
    }
   ],
   "source": [
    "matriz = pd.concat(frames)"
   ]
  },
  {
   "cell_type": "code",
   "execution_count": 45,
   "metadata": {},
   "outputs": [],
   "source": [
    "matriz = matriz.fillna(0)"
   ]
  },
  {
   "cell_type": "code",
   "execution_count": 46,
   "metadata": {},
   "outputs": [],
   "source": [
    "clases = {0:'carpinteria',\n",
    "         1:'constructora',\n",
    "         2:'sastreria',\n",
    "         3:'mecania',\n",
    "         4:'abogados',\n",
    "         5:'servicios médicos'}"
   ]
  },
  {
   "cell_type": "code",
   "execution_count": 47,
   "metadata": {},
   "outputs": [],
   "source": [
    "import numpy as np\n",
    "import matplotlib.pyplot as plt\n",
    "\n",
    "from sklearn.svm import LinearSVC \n",
    "from sklearn.model_selection import train_test_split"
   ]
  },
  {
   "cell_type": "code",
   "execution_count": 48,
   "metadata": {},
   "outputs": [],
   "source": [
    "data = matriz.values\n",
    "objetivos = [[i]*5 for i in range(6)]\n",
    "objetivos = np.vstack(objetivos).reshape(-1,1)\n",
    "data_train, data_test, obj_train, obj_test = train_test_split(data,objetivos,test_size=0.2)"
   ]
  },
  {
   "cell_type": "code",
   "execution_count": 51,
   "metadata": {},
   "outputs": [],
   "source": [
    "clf = LinearSVC().fit(data_train,obj_train.ravel())"
   ]
  },
  {
   "cell_type": "code",
   "execution_count": 52,
   "metadata": {},
   "outputs": [
    {
     "data": {
      "text/plain": [
       "1.0"
      ]
     },
     "execution_count": 52,
     "metadata": {},
     "output_type": "execute_result"
    }
   ],
   "source": [
    "clf.score(data_test,obj_test)"
   ]
  },
  {
   "cell_type": "code",
   "execution_count": null,
   "metadata": {},
   "outputs": [],
   "source": []
  }
 ],
 "metadata": {
  "kernelspec": {
   "display_name": "Python 3",
   "language": "python",
   "name": "python3"
  },
  "language_info": {
   "codemirror_mode": {
    "name": "ipython",
    "version": 3
   },
   "file_extension": ".py",
   "mimetype": "text/x-python",
   "name": "python",
   "nbconvert_exporter": "python",
   "pygments_lexer": "ipython3",
   "version": "3.7.3"
  }
 },
 "nbformat": 4,
 "nbformat_minor": 2
}
